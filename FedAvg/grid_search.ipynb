{
 "cells": [
  {
   "cell_type": "markdown",
   "metadata": {},
   "source": [
    "# grid search \n",
    "https://blog.gtwang.org/programming/tensorflow-object-detection-api-multiple-gpu-parallel-training/"
   ]
  },
  {
   "cell_type": "code",
   "execution_count": 1,
   "metadata": {},
   "outputs": [],
   "source": [
    "rounds = 10\n",
    "C = [1, 0.5, 0.1]\n",
    "K = [12, 50, 100, 1000]\n",
    "E = [1,3,7]\n",
    "mu = [1.0,0.0]"
   ]
  },
  {
   "cell_type": "code",
   "execution_count": 2,
   "metadata": {},
   "outputs": [
    {
     "name": "stdout",
     "output_type": "stream",
     "text": [
      "python E_FedProx.py --rounds 10 --k 12 --c 1 --e 1 --mu 1.0\n",
      "python E_FedProx.py --rounds 10 --k 12 --c 1 --e 1 --mu 0.0\n",
      "python E_FedProx.py --rounds 10 --k 12 --c 1 --e 3 --mu 1.0\n",
      "python E_FedProx.py --rounds 10 --k 12 --c 1 --e 3 --mu 0.0\n",
      "python E_FedProx.py --rounds 10 --k 12 --c 1 --e 7 --mu 1.0\n",
      "python E_FedProx.py --rounds 10 --k 12 --c 1 --e 7 --mu 0.0\n",
      "python E_FedProx.py --rounds 10 --k 50 --c 1 --e 1 --mu 1.0\n",
      "python E_FedProx.py --rounds 10 --k 50 --c 1 --e 1 --mu 0.0\n",
      "python E_FedProx.py --rounds 10 --k 50 --c 1 --e 3 --mu 1.0\n",
      "python E_FedProx.py --rounds 10 --k 50 --c 1 --e 3 --mu 0.0\n",
      "python E_FedProx.py --rounds 10 --k 50 --c 1 --e 7 --mu 1.0\n",
      "python E_FedProx.py --rounds 10 --k 50 --c 1 --e 7 --mu 0.0\n",
      "python E_FedProx.py --rounds 10 --k 100 --c 1 --e 1 --mu 1.0\n",
      "python E_FedProx.py --rounds 10 --k 100 --c 1 --e 1 --mu 0.0\n",
      "python E_FedProx.py --rounds 10 --k 100 --c 1 --e 3 --mu 1.0\n",
      "python E_FedProx.py --rounds 10 --k 100 --c 1 --e 3 --mu 0.0\n",
      "python E_FedProx.py --rounds 10 --k 100 --c 1 --e 7 --mu 1.0\n",
      "python E_FedProx.py --rounds 10 --k 100 --c 1 --e 7 --mu 0.0\n",
      "python E_FedProx.py --rounds 10 --k 1000 --c 1 --e 1 --mu 1.0\n",
      "python E_FedProx.py --rounds 10 --k 1000 --c 1 --e 1 --mu 0.0\n",
      "python E_FedProx.py --rounds 10 --k 1000 --c 1 --e 3 --mu 1.0\n",
      "python E_FedProx.py --rounds 10 --k 1000 --c 1 --e 3 --mu 0.0\n",
      "python E_FedProx.py --rounds 10 --k 1000 --c 1 --e 7 --mu 1.0\n",
      "python E_FedProx.py --rounds 10 --k 1000 --c 1 --e 7 --mu 0.0\n",
      "python E_FedProx.py --rounds 10 --k 12 --c 0.5 --e 1 --mu 1.0\n",
      "python E_FedProx.py --rounds 10 --k 12 --c 0.5 --e 1 --mu 0.0\n",
      "python E_FedProx.py --rounds 10 --k 12 --c 0.5 --e 3 --mu 1.0\n",
      "python E_FedProx.py --rounds 10 --k 12 --c 0.5 --e 3 --mu 0.0\n",
      "python E_FedProx.py --rounds 10 --k 12 --c 0.5 --e 7 --mu 1.0\n",
      "python E_FedProx.py --rounds 10 --k 12 --c 0.5 --e 7 --mu 0.0\n",
      "python E_FedProx.py --rounds 10 --k 50 --c 0.5 --e 1 --mu 1.0\n",
      "python E_FedProx.py --rounds 10 --k 50 --c 0.5 --e 1 --mu 0.0\n",
      "python E_FedProx.py --rounds 10 --k 50 --c 0.5 --e 3 --mu 1.0\n",
      "python E_FedProx.py --rounds 10 --k 50 --c 0.5 --e 3 --mu 0.0\n",
      "python E_FedProx.py --rounds 10 --k 50 --c 0.5 --e 7 --mu 1.0\n",
      "python E_FedProx.py --rounds 10 --k 50 --c 0.5 --e 7 --mu 0.0\n",
      "python E_FedProx.py --rounds 10 --k 100 --c 0.5 --e 1 --mu 1.0\n",
      "python E_FedProx.py --rounds 10 --k 100 --c 0.5 --e 1 --mu 0.0\n",
      "python E_FedProx.py --rounds 10 --k 100 --c 0.5 --e 3 --mu 1.0\n",
      "python E_FedProx.py --rounds 10 --k 100 --c 0.5 --e 3 --mu 0.0\n",
      "python E_FedProx.py --rounds 10 --k 100 --c 0.5 --e 7 --mu 1.0\n",
      "python E_FedProx.py --rounds 10 --k 100 --c 0.5 --e 7 --mu 0.0\n",
      "python E_FedProx.py --rounds 10 --k 1000 --c 0.5 --e 1 --mu 1.0\n",
      "python E_FedProx.py --rounds 10 --k 1000 --c 0.5 --e 1 --mu 0.0\n",
      "python E_FedProx.py --rounds 10 --k 1000 --c 0.5 --e 3 --mu 1.0\n",
      "python E_FedProx.py --rounds 10 --k 1000 --c 0.5 --e 3 --mu 0.0\n",
      "python E_FedProx.py --rounds 10 --k 1000 --c 0.5 --e 7 --mu 1.0\n",
      "python E_FedProx.py --rounds 10 --k 1000 --c 0.5 --e 7 --mu 0.0\n",
      "python E_FedProx.py --rounds 10 --k 12 --c 0.1 --e 1 --mu 1.0\n",
      "python E_FedProx.py --rounds 10 --k 12 --c 0.1 --e 1 --mu 0.0\n",
      "python E_FedProx.py --rounds 10 --k 12 --c 0.1 --e 3 --mu 1.0\n",
      "python E_FedProx.py --rounds 10 --k 12 --c 0.1 --e 3 --mu 0.0\n",
      "python E_FedProx.py --rounds 10 --k 12 --c 0.1 --e 7 --mu 1.0\n",
      "python E_FedProx.py --rounds 10 --k 12 --c 0.1 --e 7 --mu 0.0\n",
      "python E_FedProx.py --rounds 10 --k 50 --c 0.1 --e 1 --mu 1.0\n",
      "python E_FedProx.py --rounds 10 --k 50 --c 0.1 --e 1 --mu 0.0\n",
      "python E_FedProx.py --rounds 10 --k 50 --c 0.1 --e 3 --mu 1.0\n",
      "python E_FedProx.py --rounds 10 --k 50 --c 0.1 --e 3 --mu 0.0\n",
      "python E_FedProx.py --rounds 10 --k 50 --c 0.1 --e 7 --mu 1.0\n",
      "python E_FedProx.py --rounds 10 --k 50 --c 0.1 --e 7 --mu 0.0\n",
      "python E_FedProx.py --rounds 10 --k 100 --c 0.1 --e 1 --mu 1.0\n",
      "python E_FedProx.py --rounds 10 --k 100 --c 0.1 --e 1 --mu 0.0\n",
      "python E_FedProx.py --rounds 10 --k 100 --c 0.1 --e 3 --mu 1.0\n",
      "python E_FedProx.py --rounds 10 --k 100 --c 0.1 --e 3 --mu 0.0\n",
      "python E_FedProx.py --rounds 10 --k 100 --c 0.1 --e 7 --mu 1.0\n",
      "python E_FedProx.py --rounds 10 --k 100 --c 0.1 --e 7 --mu 0.0\n",
      "python E_FedProx.py --rounds 10 --k 1000 --c 0.1 --e 1 --mu 1.0\n",
      "python E_FedProx.py --rounds 10 --k 1000 --c 0.1 --e 1 --mu 0.0\n",
      "python E_FedProx.py --rounds 10 --k 1000 --c 0.1 --e 3 --mu 1.0\n",
      "python E_FedProx.py --rounds 10 --k 1000 --c 0.1 --e 3 --mu 0.0\n",
      "python E_FedProx.py --rounds 10 --k 1000 --c 0.1 --e 7 --mu 1.0\n",
      "python E_FedProx.py --rounds 10 --k 1000 --c 0.1 --e 7 --mu 0.0\n"
     ]
    }
   ],
   "source": [
    "import pandas as pd\n",
    "import os\n",
    "\n",
    "directory = './data'\n",
    "\n",
    "\n",
    "\n",
    "lis = []\n",
    "for c_ in C:\n",
    "    for k_ in K:\n",
    "        for e_ in E:\n",
    "            \n",
    "            cmd = 'python E_FedProx.py --rounds '+str(rounds)+' --k '+str(k_)+' --c '+str(c_)+' --e '+str(e_)\n",
    "    #         cmd = 'python E_FedProx.py -h'\n",
    "            os.system(cmd)\n",
    "#                 print(cmd)\n",
    "            df_loc = max([os.path.join(directory,d) for d in os.listdir(directory)], key=os.path.getmtime)\n",
    "            lis.append([c_, k_, rounds, e_, df_loc])"
   ]
  },
  {
   "cell_type": "code",
   "execution_count": 4,
   "metadata": {},
   "outputs": [],
   "source": [
    "import numpy as np\n",
    "import time\n",
    "timestr = time.strftime(\"%Y%m%d-%H%M%S\")\n",
    "\n",
    "df = pd.DataFrame()\n",
    "a = np.transpose([lis])\n",
    "\n",
    "to_list = lambda a, i: np.squeeze(a[i], axis = 1)\n",
    "to_list(a, 0)\n",
    "df['C'] = to_list(a, 0)\n",
    "df['K'] = to_list(a, 1)\n",
    "df['rounds'] = to_list(a, 2)\n",
    "df['epochs'] = to_list(a, 3)\n",
    "df['df_loc'] = to_list(a, 4)\n",
    "\n",
    "df.to_csv('grid_search/grid_search_'+timestr+'.csv', index=False)"
   ]
  },
  {
   "cell_type": "code",
   "execution_count": null,
   "metadata": {},
   "outputs": [],
   "source": []
  }
 ],
 "metadata": {
  "kernelspec": {
   "display_name": "Python 3",
   "language": "python",
   "name": "python3"
  },
  "language_info": {
   "codemirror_mode": {
    "name": "ipython",
    "version": 3
   },
   "file_extension": ".py",
   "mimetype": "text/x-python",
   "name": "python",
   "nbconvert_exporter": "python",
   "pygments_lexer": "ipython3",
   "version": "3.7.6"
  }
 },
 "nbformat": 4,
 "nbformat_minor": 4
}
