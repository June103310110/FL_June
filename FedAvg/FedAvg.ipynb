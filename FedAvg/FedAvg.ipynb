{
 "cells": [
  {
   "cell_type": "markdown",
   "metadata": {},
   "source": [
    "## FedAVG\n",
    "- dataset: \n",
    "    - MNIST/ CIFAR10\n",
    "    - stock?\n",
    "    \n",
    "<img src=\"slide_image/FedAvg_MNIST.png\" width=640  />\n"
   ]
  },
  {
   "cell_type": "markdown",
   "metadata": {},
   "source": [
    "## Importing"
   ]
  },
  {
   "cell_type": "code",
   "execution_count": 1,
   "metadata": {},
   "outputs": [],
   "source": [
    "import tensorflow as tf\n",
    "gpus = tf.config.list_physical_devices(device_type='GPU')\n",
    "for gpu in gpus:\n",
    "    tf.config.experimental.set_memory_growth(device=gpu, enable=True)"
   ]
  },
  {
   "cell_type": "code",
   "execution_count": 2,
   "metadata": {},
   "outputs": [],
   "source": [
    "from tensorflow.keras.models import Sequential\n",
    "from tensorflow.keras.layers import Dense, Dropout, LSTM, SimpleRNN, RNN\n",
    "import numpy as np"
   ]
  },
  {
   "cell_type": "markdown",
   "metadata": {},
   "source": [
    "## Custom func."
   ]
  },
  {
   "cell_type": "code",
   "execution_count": 3,
   "metadata": {},
   "outputs": [],
   "source": [
    "def simplernn(name):\n",
    "    import tensorflow as tf\n",
    "    from tensorflow.python.keras.models import Sequential, Model\n",
    "    from tensorflow.python.keras.layers import Input, Dense, Dropout, LSTM, SimpleRNN, RNN\n",
    "\n",
    "    inputs = Input(shape=(28,28), name='input')\n",
    "    y = SimpleRNN(units=128, activation='tanh', return_sequences=True, name='r1')(inputs)\n",
    "    y = Dropout(rate=0.2, name='dr1')(y)\n",
    "    y = SimpleRNN(units=128, activation='relu', return_sequences=False, name='r2')(y)\n",
    "    y = Dropout(rate=0.1, name='dr2')(y)\n",
    "    y = Dense(units=32, activation='relu', name='d1')(y)\n",
    "#     y = Dropout(rate=0.2, name='dr3')(y)\n",
    "    y = Dense(units=10, activation='softmax', name='d2')(y)\n",
    "    \n",
    "    model = Model(inputs=inputs, outputs=y, name=name)\n",
    "    return model"
   ]
  },
  {
   "cell_type": "code",
   "execution_count": 4,
   "metadata": {},
   "outputs": [],
   "source": [
    "from tensorflow.keras.models import Sequential, Model\n",
    "from tensorflow.keras.layers import (Input, Dense, Dropout, Activation,\n",
    "                                     BatchNormalization, Flatten,\n",
    "                                     Conv2D, MaxPooling2D)\n",
    "\n",
    "def simplecnn(name):\n",
    "    # 選擇 Keras 的 API 寫法\n",
    "    inputs = Input(shape=(28,28,1))\n",
    "\n",
    "    # 第一層\n",
    "    # 建立卷積層，設定32個3*3的filters\n",
    "    # 設定ReLU為激活函數。\n",
    "    x = Conv2D(32, (3, 3), activation='relu')(inputs)\n",
    "\n",
    "    # 第二層 - 卷積層 + 池化層\n",
    "    x = Conv2D(32, (3, 3), activation='relu')(x)\n",
    "    x = MaxPooling2D(pool_size=(2, 2))(x)\n",
    "\n",
    "    # 第三層 - 卷積層\n",
    "    x = Conv2D(64, (3, 3), activation='relu')(x)\n",
    "\n",
    "    # 第四層 - 卷積層 + 池化層\n",
    "    x = Conv2D(64, (3, 3), activation='relu')(x)\n",
    "    x = MaxPooling2D(pool_size=(2, 2))(x)\n",
    "\n",
    "    # 建立分類模型 (MLP) : 平坦層 + 輸出層 (10)\n",
    "    x = Flatten()(x)\n",
    "    outputs = Dense(10, activation='softmax')(x)\n",
    "\n",
    "    cnn_model = Model(inputs=inputs, outputs=outputs)\n",
    "    return cnn_model"
   ]
  },
  {
   "cell_type": "code",
   "execution_count": 5,
   "metadata": {},
   "outputs": [],
   "source": [
    "def model_trainable(model, under):\n",
    "    for layer in model.layers:\n",
    "        layer.trainable = False\n",
    "    for layer in model.layers[under:]:\n",
    "        layer.trainable = True\n",
    "        \n",
    "    for i in model.layers:\n",
    "        print(i.trainable)"
   ]
  },
  {
   "cell_type": "code",
   "execution_count": 6,
   "metadata": {},
   "outputs": [],
   "source": [
    "def acc_model(X_test, y_test, model, num):\n",
    "    from sklearn.metrics import accuracy_score\n",
    "    import numpy as np\n",
    "    \n",
    "    a = np.random.choice(len(X_test), num)\n",
    "    \n",
    "    y_pred = model.predict(X_test[a])\n",
    "    y_pred = np.argmax(y_pred,axis=1)\n",
    "    y_true = y_test[a]\n",
    "#     print(accuracy_score(y_true, y_pred))\n",
    "    return accuracy_score(y_true, y_pred)"
   ]
  },
  {
   "cell_type": "markdown",
   "metadata": {},
   "source": [
    "## Training"
   ]
  },
  {
   "cell_type": "markdown",
   "metadata": {},
   "source": [
    "### data gathering"
   ]
  },
  {
   "cell_type": "code",
   "execution_count": 7,
   "metadata": {},
   "outputs": [
    {
     "name": "stdout",
     "output_type": "stream",
     "text": [
      "(60000, 28, 28)\n",
      "(28, 28)\n"
     ]
    }
   ],
   "source": [
    "mnist = tf.keras.datasets.mnist\n",
    "(X_train, y_train), (X_test, y_test) = mnist.load_data()\n",
    "\n",
    "# 標準化數據\n",
    "X_train = X_train/255.0\n",
    "X_test = X_test/255.0\n",
    "print(X_train.shape)\n",
    "print(X_train[0].shape)"
   ]
  },
  {
   "cell_type": "code",
   "execution_count": 8,
   "metadata": {},
   "outputs": [
    {
     "name": "stdout",
     "output_type": "stream",
     "text": [
      "[5923 6742 5958 6131 5842 5421 5918 6265 5851 5949]\n"
     ]
    },
    {
     "data": {
      "text/plain": [
       "Text(0.5, 0, 'MNIST classes amount')"
      ]
     },
     "execution_count": 8,
     "metadata": {},
     "output_type": "execute_result"
    },
    {
     "data": {
      "image/png": "[encoded data removed]",
      "text/plain": [
       "<Figure size 432x288 with 1 Axes>"
      ]
     },
     "metadata": {
      "needs_background": "light"
     },
     "output_type": "display_data"
    }
   ],
   "source": [
    "import matplotlib.pyplot as plt\n",
    "print(np.bincount(y_train))\n",
    "\n",
    "plt.bar(x = np.unique(y_train), height = np.bincount(y_train),\n",
    "       tick_label = np.unique(y_train))\n",
    "plt.xlabel('MNIST classes amount')"
   ]
  },
  {
   "cell_type": "code",
   "execution_count": 9,
   "metadata": {},
   "outputs": [],
   "source": [
    "idx = np.argsort(y_train)\n",
    "x_train_sorted = X_train[idx]\n",
    "y_train_sorted = y_train[idx]\n"
   ]
  },
  {
   "cell_type": "markdown",
   "metadata": {},
   "source": [
    "### subset 1"
   ]
  },
  {
   "cell_type": "code",
   "execution_count": 10,
   "metadata": {},
   "outputs": [],
   "source": [
    "def view_clientDict(subset):\n",
    "    print('>>> 分割給 %d'%len(subset.keys()),'個client')\n",
    "\n",
    "    _ = list(subset.keys())[0]\n",
    "    print('>>> subset',_,'資料維度')\n",
    "    print('-- data shape',np.shape(subset[_][0]), '--label shape',np.shape(subset[_][1]))\n",
    "\n",
    "    _ = list(subset.keys())[-1]\n",
    "    print('>>> subset',_,'資料維度')\n",
    "    print('-- data shape',np.shape(subset[_][0]), '--label shape',np.shape(subset[_][1]))\n",
    "    \n",
    "    # plot \n",
    "    lis = []\n",
    "    for _ in subset.keys():\n",
    "        a = np.shape(subset[_][1])[0]\n",
    "        lis.append(a)\n",
    "    plt.figure(figsize=(12, 6))\n",
    "    \n",
    "    tick = [key+'_'+str(np.unique(subset[key][1])) for key in list(subset.keys())]\n",
    "    \n",
    "    plt.bar(x = tick, height =lis)\n",
    "    \n",
    "    plt.xticks(tick, rotation = 45)\n",
    "    plt.xlabel('client subset datapoints amount')\n",
    "    plt.show()"
   ]
  },
  {
   "cell_type": "code",
   "execution_count": 11,
   "metadata": {},
   "outputs": [],
   "source": [
    "def byClasses_inbal_split(data, label, K):\n",
    "    \n",
    "    if K < len(np.unique(label)):\n",
    "        raise ValueError('本函式確保同一個subset只有一種類別，clients數量(K)不得小於label classes數量.')\n",
    "        \n",
    "    repeat = K//len(np.unique(label))\n",
    "    left = K%len(np.unique(label))\n",
    "#     print(repeat,left)\n",
    "    \n",
    "    subset = dict()\n",
    "    unique = np.unique(label)\n",
    "\n",
    "    choice = np.random.choice(unique, size = left)\n",
    "#     print(choice)\n",
    "#     print(np.bincount(choice))\n",
    "    lis = []\n",
    "    for i in range(len(unique)):\n",
    "#         print(i)\n",
    "        cond = np.where(label==i)\n",
    "        if np.isin(i, choice):\n",
    "\n",
    "            for _ in np.array_split(cond[0], repeat+np.bincount(choice)[i]):  # 不等分割\n",
    "                lis.append([data[_], label[_]])\n",
    "        else:\n",
    "            for _ in np.array_split(cond[0], repeat):  # 不等分割\n",
    "#                 print(np.shape(_))\n",
    "                lis.append([data[_], label[_]])\n",
    "#     print(np.shape(lis))\n",
    "    for _ in lis:\n",
    "#             print(_[1], len(_[1]))\n",
    "        a = str(len(subset))\n",
    "        subset['client'+a] = _\n",
    "    return subset\n",
    "# K = 10\n",
    "# subset = byClasses_inbal_split(x_train_sorted, y_train_sorted, K)\n",
    "# view_clientDict(subset)\n"
   ]
  },
  {
   "cell_type": "markdown",
   "metadata": {},
   "source": [
    "### subset 2"
   ]
  },
  {
   "cell_type": "code",
   "execution_count": 12,
   "metadata": {},
   "outputs": [],
   "source": [
    "def byClasses_bal_split(data, label, K):\n",
    "    nums = len(label)//K\n",
    "    lis = list(range(0,len(label),nums))\n",
    "\n",
    "    subset = dict()\n",
    "\n",
    "    for i in range(K-1):\n",
    "        a, b = lis[i], lis[i+1]\n",
    "        subset['client'+str(i)] = [data[a:b], label[a:b]]\n",
    "\n",
    "    a = K-1\n",
    "    subset['client'+str(a)] = [data[lis[a]:], label[lis[a]:]]\n",
    "    return subset\n",
    "# K = 17\n",
    "# subset = byClasses_bal_split(x_train_sorted, y_train_sorted, K)\n",
    "# view_clientDict(subset)"
   ]
  },
  {
   "cell_type": "code",
   "execution_count": 13,
   "metadata": {},
   "outputs": [],
   "source": [
    "\n",
    "# hyper_para = dict()\n",
    "# hyper_para['K'] = 6\n",
    "\n",
    "# subset= byClasses_bal_split(x_train_sorted, y_train_sorted, hyper_para['K'])\n",
    "# view_clientDict(subset)\n"
   ]
  },
  {
   "cell_type": "code",
   "execution_count": 14,
   "metadata": {},
   "outputs": [],
   "source": [
    "# import tensorflow as tf\n",
    "class clint_k():\n",
    "    \n",
    "    def __init__(self, name):\n",
    "        self.name = name\n",
    "        \n",
    "        self.attri = {'name':self.name}\n",
    "    def set_content(self, data, label, model):\n",
    "        content = {'name': self.name, 'data':data, 'label':label, 'model':model}\n",
    "        self.data = data\n",
    "        self.label = label\n",
    "        self.model = model\n",
    "        values_list = [self.name, self.data, self.label, self.model]\n",
    "        keys_list = ['name','data', 'label', 'model']\n",
    "        self.attri = dict(zip(keys_list, values_list))\n",
    "        return content\n",
    "    def show_content(self):\n",
    "\n",
    "        return self.attri\n",
    "#     def model_update(self, model, display=True):\n",
    "#         self.model = model\n",
    "#         if display:\n",
    "#             print('updating model for ' + self.name) \n",
    "        \n",
    "\n",
    "\n",
    "# a = clint_k('client0')  #建立一個名叫dog的Animal實體(物件)\n",
    "# print(a.name)\n",
    "# # a.set_content([1], [1], [2])\n",
    "# a.show_content()"
   ]
  },
  {
   "cell_type": "code",
   "execution_count": 15,
   "metadata": {},
   "outputs": [],
   "source": [
    "def choice_client(hyper_para, choice, client_list):\n",
    "    \n",
    "    \n",
    "    batch_size = hyper_para['B']\n",
    "    epochs = hyper_para['E']\n",
    "    \n",
    "    for _ in choice:\n",
    "        print('Training on client'+str(_))\n",
    "        client = client_list['client'+str(_)]\n",
    "\n",
    "        model = client.model"
   ]
  },
  {
   "cell_type": "code",
   "execution_count": 16,
   "metadata": {},
   "outputs": [],
   "source": [
    "from tensorflow.keras.models import clone_model\n",
    "\n",
    "def avg_weight(choice, Gmodel, client_list):\n",
    "    tmp_model = clone_model(Gmodel)\n",
    "    tmp_model.set_weights(Gmodel.get_weights())\n",
    "    models = []\n",
    "    weighting = []\n",
    "    for _ in choice:\n",
    "        models.append(client_list['client'+str(_)].model)\n",
    "        weighting.append(len(client_list['client'+str(_)].data))\n",
    "        \n",
    "    weights = [model.get_weights() for model in models]\n",
    "    new_weights = list()\n",
    "    \n",
    "    weighting = np.array(weighting)/np.sum(weighting)\n",
    "\n",
    "    weights = [i for i in weights]\n",
    "    \n",
    "    for i in zip(*weights):\n",
    "        a = np.average(i, weights=weighting, axis=0)\n",
    "        new_weights.append(a)\n",
    "    \n",
    "    pt = 0\n",
    "    for i in range(len(tmp_model.layers)):\n",
    "        a = tmp_model.layers[i]\n",
    "\n",
    "        if len(a.get_weights()) != 0:\n",
    "            a.set_weights(new_weights[pt:len(a.get_weights())+pt])\n",
    "            pt+=len(a.get_weights())\n",
    "    del models, weighting, new_weights\n",
    "    return tmp_model\n",
    "\n",
    "\n"
   ]
  },
  {
   "cell_type": "code",
   "execution_count": 17,
   "metadata": {},
   "outputs": [],
   "source": [
    "def model_check(model_1, model_2):\n",
    "    a = model_1.get_weights()\n",
    "    for i in range(len(a)):\n",
    "#         print(i)\n",
    "        if np.array_equal(model_1.get_weights()[i], model_2.get_weights()[i]):\n",
    "            print('layer %d is equal'%i)\n",
    "            pass\n",
    "        else:\n",
    "#             print('Model not equal')\n",
    "            print('layer %d is not equal'%i)"
   ]
  },
  {
   "cell_type": "code",
   "execution_count": 18,
   "metadata": {},
   "outputs": [
    {
     "name": "stdout",
     "output_type": "stream",
     "text": [
      ">>> 分割給 6 個client\n",
      ">>> subset client0 資料維度\n",
      "-- data shape (10000, 28, 28) --label shape (10000,)\n",
      ">>> subset client5 資料維度\n",
      "-- data shape (10000, 28, 28) --label shape (10000,)\n"
     ]
    },
    {
     "data": {
      "image/png": "[encoded data removed]",
      "text/plain": [
       "<Figure size 864x432 with 1 Axes>"
      ]
     },
     "metadata": {
      "needs_background": "light"
     },
     "output_type": "display_data"
    }
   ],
   "source": [
    "hyper_para = dict()\n",
    "hyper_para['K'] = 6\n",
    "\n",
    "subset= byClasses_bal_split(x_train_sorted, y_train_sorted, hyper_para['K'])\n",
    "view_clientDict(subset)\n"
   ]
  },
  {
   "cell_type": "code",
   "execution_count": 19,
   "metadata": {},
   "outputs": [
    {
     "name": "stdout",
     "output_type": "stream",
     "text": [
      "dict_keys(['client0', 'client1', 'client2', 'client3', 'client4', 'client5'])\n"
     ]
    },
    {
     "data": {
      "text/plain": [
       "dict_keys(['name', 'data', 'label', 'model'])"
      ]
     },
     "execution_count": 19,
     "metadata": {},
     "output_type": "execute_result"
    }
   ],
   "source": [
    "from tensorflow.keras.models import clone_model\n",
    "\n",
    "\n",
    "Gmodel = simplecnn('server_model')\n",
    "\n",
    "\n",
    "        \n",
    "acc_model(X_test, y_test, Gmodel, 3000)\n",
    "\n",
    "client_list = dict()\n",
    "\n",
    "for _ in list(subset.keys()):\n",
    "\n",
    "    client_list[_] = clint_k(_)\n",
    "    client_list[_].set_content(data = subset[_][0], \n",
    "                               label = subset[_][1], model = clone_model(Gmodel))\n",
    "    client_list[_].model.set_weights(Gmodel.get_weights())\n",
    "print(client_list.keys())\n",
    "client_list['client0'].show_content().keys()\n",
    "\n",
    "# [i.trainable for i in Gmodel.layers]"
   ]
  },
  {
   "cell_type": "markdown",
   "metadata": {},
   "source": [
    "## Setting para "
   ]
  },
  {
   "cell_type": "code",
   "execution_count": 20,
   "metadata": {},
   "outputs": [
    {
     "name": "stdout",
     "output_type": "stream",
     "text": [
      "{'K': 6, 'B': 1024, 'C': 1, 'E': 5}\n"
     ]
    }
   ],
   "source": [
    "import numpy as np\n",
    "# batchsize\n",
    "hyper_para['B'] = 1024\n",
    "\n",
    "# choice\n",
    "# C = 1\n",
    "hyper_para['C'] = 1\n",
    "\n",
    "# int(np.ceil(C*hyper_para['K']))\n",
    "\n",
    "# Epochs\n",
    "hyper_para['E'] = 5\n",
    "\n",
    "print(hyper_para)\n",
    "\n"
   ]
  },
  {
   "cell_type": "code",
   "execution_count": 21,
   "metadata": {},
   "outputs": [
    {
     "name": "stdout",
     "output_type": "stream",
     "text": [
      "0.187\n",
      "0.175\n",
      "0.157\n",
      "0.158\n",
      "0.167\n",
      "0.185\n"
     ]
    }
   ],
   "source": [
    "for i in range(len(client_list)):\n",
    "    client = client_list['client'+str(i)]\n",
    "    model = client.model\n",
    "    print(acc_model(X_test, y_test, model, 1000))"
   ]
  },
  {
   "cell_type": "code",
   "execution_count": 22,
   "metadata": {},
   "outputs": [
    {
     "name": "stdout",
     "output_type": "stream",
     "text": [
      "{'K': 6, 'B': 1024, 'C': 1, 'E': 5}\n"
     ]
    }
   ],
   "source": [
    "print(hyper_para)"
   ]
  },
  {
   "cell_type": "code",
   "execution_count": 23,
   "metadata": {},
   "outputs": [
    {
     "name": "stdout",
     "output_type": "stream",
     "text": [
      "----------------------\n",
      "Gmodel acc\n",
      "0.189\n",
      "*************************************\n",
      "Training on client3\n",
      "Time taken: 1.74s\n",
      "*************************************\n",
      "Training on client2\n",
      "Time taken: 1.34s\n",
      "*************************************\n",
      "Training on client1\n",
      "Time taken: 1.29s\n",
      "*************************************\n",
      "Training on client0\n",
      "Time taken: 1.30s\n",
      "*************************************\n",
      "Training on client5\n",
      "Time taken: 1.31s\n",
      "*************************************\n",
      "Training on client4\n",
      "Time taken: 1.30s\n",
      "----------------------\n",
      "Gmodel acc\n",
      "0.13\n",
      "----------------------\n",
      "Gmodel acc\n",
      "0.149\n",
      "*************************************\n",
      "Training on client5\n",
      "Time taken: 1.29s\n",
      "*************************************\n",
      "Training on client1\n",
      "Time taken: 1.30s\n",
      "*************************************\n",
      "Training on client3\n",
      "Time taken: 1.29s\n",
      "*************************************\n",
      "Training on client4\n",
      "Time taken: 1.30s\n",
      "*************************************\n",
      "Training on client2\n",
      "Time taken: 1.30s\n",
      "*************************************\n",
      "Training on client0\n",
      "Time taken: 1.31s\n",
      "----------------------\n",
      "Gmodel acc\n",
      "0.3\n"
     ]
    }
   ],
   "source": [
    "import numpy as np\n",
    "import pandas as pd\n",
    "from sklearn.model_selection import train_test_split\n",
    "import tensorflow as tf\n",
    "import time\n",
    "\n",
    "acc_test = []\n",
    "acc_test.append(acc_model(X_test, y_test, Gmodel, 10000))\n",
    "\n",
    "for rounds in range(2):\n",
    "    clients = range(hyper_para['K'])\n",
    "    \n",
    "    size = int(np.ceil(hyper_para['C']*hyper_para['K']))\n",
    "    choice = np.random.choice(clients, size = size, replace=False)\n",
    "    \n",
    "#     # Instantiate an optimizer to train the model.\n",
    "#     optimizer = tf.keras.optimizers.Adam(learning_rate=1e-3)\n",
    "#     # Instantiate a loss function.\n",
    "#     loss_fn = tf.keras.losses.SparseCategoricalCrossentropy(from_logits=True)\n",
    "\n",
    "#     # Prepare the metrics.\n",
    "#     train_acc_metric = tf.keras.metrics.SparseCategoricalAccuracy()\n",
    "#     val_acc_metric = tf.keras.metrics.SparseCategoricalAccuracy()\n",
    "\n",
    "\n",
    "    #--------------------\n",
    "    batch_size = hyper_para['B']\n",
    "    epochs = hyper_para['E']\n",
    "    \n",
    "    print('----------------------\\nGmodel acc')\n",
    "    print(acc_model(X_test, y_test, Gmodel, 1000))\n",
    "    \n",
    "    for _ in choice:\n",
    "        print('*************************************')\n",
    "        print('Training on client'+str(_))\n",
    "        client = client_list['client'+str(_)]\n",
    "\n",
    "\n",
    "\n",
    "        model = client.model\n",
    "        \n",
    "        # Instantiate an optimizer to train the model.\n",
    "        optimizer = tf.keras.optimizers.Adam(learning_rate=1e-3)\n",
    "        # Instantiate a loss function.\n",
    "        loss_fn = tf.keras.losses.SparseCategoricalCrossentropy(from_logits=True)\n",
    "\n",
    "        # Prepare the metrics.\n",
    "        train_acc_metric = tf.keras.metrics.SparseCategoricalAccuracy()\n",
    "        val_acc_metric = tf.keras.metrics.SparseCategoricalAccuracy()\n",
    "    \n",
    "    \n",
    "\n",
    "        X_train_, X_test_, y_train_, y_test_ = train_test_split(\n",
    "                client.data, client.label, test_size=0.2, random_state=42)\n",
    "\n",
    "    #     (X_train_, y_train_), (X_test_, y_test_) = mnist.load_data()\n",
    "\n",
    "        # Prepare the training dataset.\n",
    "        train_dataset = tf.data.Dataset.from_tensor_slices((X_train_, y_train_))\n",
    "        train_dataset = train_dataset.shuffle(buffer_size=1024).batch(batch_size)\n",
    "\n",
    "        # Prepare the validation dataset.\n",
    "        val_dataset = tf.data.Dataset.from_tensor_slices((X_test_, y_test_))\n",
    "        val_dataset = val_dataset.batch(batch_size//10)\n",
    "\n",
    "\n",
    "        #------------------------------------------\n",
    "        start_time = time.time()\n",
    "        for epoch in range(epochs):\n",
    "            \n",
    "#             print(\"\\nStart of epoch %d\" % (epoch,))\n",
    "\n",
    "            # Iterate over the batches of the dataset.\n",
    "            for step, (x_batch_train, y_batch_train) in enumerate(train_dataset):\n",
    "\n",
    "                # Open a GradientTape to record the operations run\n",
    "                # during the forward pass, which enables auto-differentiation.\n",
    "                with tf.GradientTape() as tape:\n",
    "\n",
    "                    # Run the forward pass of the layer.\n",
    "                    # The operations that the layer applies\n",
    "                    # to its inputs are going to be recorded\n",
    "                    # on the GradientTape.\n",
    "                    logits = model(x_batch_train, training=True)  # Logits for this minibatch\n",
    "\n",
    "                    # Compute the loss value for this minibatch.\n",
    "                    loss_value = loss_fn(y_batch_train, logits)\n",
    "\n",
    "                # Use the gradient tape to automatically retrieve\n",
    "                # the gradients of the trainable variables with respect to the loss.\n",
    "                grads = tape.gradient(loss_value, model.trainable_weights)\n",
    "\n",
    "                # Run one step of gradient descent by updating\n",
    "                # the value of the variables to minimize the loss.\n",
    "                optimizer.apply_gradients(zip(grads, model.trainable_weights))\n",
    "        print(\"Time taken: %.2fs\" % (time.time() - start_time))\n",
    "                # Log every 200 batches.\n",
    "#                 if step % 10 == 0:\n",
    "#                     print(\n",
    "#                         \"Training loss (for one batch) at step %d: %.4f\"\n",
    "#                         % (step, float(loss_value))\n",
    "#                     )\n",
    "#                     print(\"Seen so far: %s samples\" % ((step + 1) * batch_size))\n",
    "#             print(acc_model(X_test_, y_test_, model, 1000))\n",
    "\n",
    "        #----------------------------------\n",
    "        \n",
    "        \n",
    "    Gmodel = avg_weight(choice, Gmodel, client_list)\n",
    "    for i in client_list:\n",
    "        client_list[i].model.set_weights(Gmodel.get_weights()) \n",
    "\n",
    "    \n",
    "    print('----------------------\\nGmodel acc')\n",
    "    print(acc_model(X_test, y_test, Gmodel, 1000))\n",
    "    acc_test.append(acc_model(X_test, y_test, Gmodel, 10000))"
   ]
  },
  {
   "cell_type": "code",
   "execution_count": 24,
   "metadata": {},
   "outputs": [
    {
     "name": "stdout",
     "output_type": "stream",
     "text": [
      "0.29\n",
      "0.319\n",
      "0.309\n",
      "0.294\n",
      "0.307\n",
      "0.303\n"
     ]
    }
   ],
   "source": [
    "for i in range(len(client_list)):\n",
    "    client = client_list['client'+str(i)]\n",
    "    model = client.model\n",
    "    print(acc_model(X_test, y_test, Gmodel, 1000))"
   ]
  },
  {
   "cell_type": "code",
   "execution_count": 25,
   "metadata": {},
   "outputs": [],
   "source": [
    "import pandas as pd\n",
    "import time\n",
    "timestr = time.strftime(\"%Y%m%d-%H%M%S\")\n",
    "df = pd.DataFrame(acc_test*5, columns=['Gmodel acc'])\n",
    "\n",
    "df['hyper_keys'] = pd.DataFrame(hyper_para.keys())\n",
    "df['hyper_item'] = pd.DataFrame(hyper_para.values())\n",
    "df.to_csv('./FedAvg003_test/acc_test_'+timestr+'.csv', index=False)"
   ]
  },
  {
   "cell_type": "code",
   "execution_count": 26,
   "metadata": {},
   "outputs": [
    {
     "data": {
      "image/png": "[encoded data removed]",
      "text/plain": [
       "<Figure size 2592x576 with 1 Axes>"
      ]
     },
     "metadata": {
      "needs_background": "light"
     },
     "output_type": "display_data"
    }
   ],
   "source": [
    "import matplotlib.pyplot as plt\n",
    "import pandas as pd\n",
    "import numpy as np\n",
    "import os\n",
    "\n",
    "directory = './FedAvg003_test'\n",
    "def plt_acctest(path = max([os.path.join(directory,d) for d in os.listdir(directory)], key=os.path.getmtime) ):\n",
    "    plt.figure(figsize=(36,8))\n",
    "    df = pd.read_csv(path)\n",
    "    plt.plot(list(df.index), df['Gmodel acc'])\n",
    "    ax = [0, list(df.index)[-1]]\n",
    "    a = np.max(df['Gmodel acc'].values)\n",
    "    ay = [a,a]\n",
    "    plt.plot(ax, ay)\n",
    "    a = np.ceil(0.6*len(df))\n",
    "    plt.text( a,0.1, 'round = '+str(len(df)-1), horizontalalignment='center',\n",
    "          verticalalignment='center', fontsize = 30)\n",
    "    plt.xticks(list(df.index))\n",
    "    plt.show()\n",
    "    \n",
    "plt_acctest()"
   ]
  }
 ],
 "metadata": {
  "kernelspec": {
   "display_name": "Python 3",
   "language": "python",
   "name": "python3"
  },
  "language_info": {
   "codemirror_mode": {
    "name": "ipython",
    "version": 3
   },
   "file_extension": ".py",
   "mimetype": "text/x-python",
   "name": "python",
   "nbconvert_exporter": "python",
   "pygments_lexer": "ipython3",
   "version": "3.7.6"
  }
 },
 "nbformat": 4,
 "nbformat_minor": 4
}
