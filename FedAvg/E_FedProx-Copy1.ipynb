{
 "cells": [
  {
   "cell_type": "markdown",
   "metadata": {},
   "source": [
    "## FedAVG\n",
    "- dataset: \n",
    "    - MNIST/ CIFAR10\n",
    "    - stock?\n",
    "    \n",
    "<!-- <img src=\"slide_image/FedAvg_MNIST.png\" width=640  /> -->\n"
   ]
  },
  {
   "cell_type": "code",
   "execution_count": null,
   "metadata": {},
   "outputs": [],
   "source": [
    "# %%writefile test.py \n",
    "import argparse\n",
    "parser = argparse.ArgumentParser()\n",
    "parser.add_argument(\"--rounds\", help=\"aggregation rounds\",\n",
    "                    type=int)\n",
    "args = parser.parse_args()\n",
    "\n",
    "rounds_ = args.rounds\n",
    "if not rounds_:\n",
    "    raise ValueError('***Plz type in aggregation rounds***')\n",
    "# print(rounds)\n",
    "\n"
   ]
  },
  {
   "cell_type": "markdown",
   "metadata": {},
   "source": [
    "## Importing"
   ]
  },
  {
   "cell_type": "code",
   "execution_count": 1,
   "metadata": {},
   "outputs": [],
   "source": [
    "import tensorflow as tf\n",
    "gpus = tf.config.list_physical_devices(device_type='GPU')\n",
    "for gpu in gpus:\n",
    "    tf.config.experimental.set_memory_growth(device=gpu, enable=True)"
   ]
  },
  {
   "cell_type": "code",
   "execution_count": 2,
   "metadata": {},
   "outputs": [],
   "source": [
    "from tensorflow.keras.models import Sequential, Model\n",
    "from tensorflow.keras.layers import (Input, Dense, Dropout, Activation,\n",
    "                                     BatchNormalization, Flatten,\n",
    "                                     Conv2D, MaxPooling2D)\n",
    "import numpy as np\n",
    "import time\n",
    "from sklearn.model_selection import train_test_split\n",
    "import matplotlib.pyplot as plt"
   ]
  },
  {
   "cell_type": "markdown",
   "metadata": {},
   "source": [
    "## Custom func."
   ]
  },
  {
   "cell_type": "code",
   "execution_count": 3,
   "metadata": {},
   "outputs": [],
   "source": [
    "def simplecnn(name):\n",
    "    # 選擇 Keras 的 API 寫法\n",
    "    inputs = Input(shape=(28,28,1))\n",
    "\n",
    "    # 第一層\n",
    "    # 建立卷積層，設定32個3*3的filters\n",
    "    # 設定ReLU為激活函數。\n",
    "    x = Conv2D(32, (3, 3), activation='relu')(inputs)\n",
    "\n",
    "    # 第二層 - 卷積層 + 池化層\n",
    "    x = Conv2D(32, (3, 3), activation='relu')(x)\n",
    "    x = MaxPooling2D(pool_size=(2, 2))(x)\n",
    "\n",
    "    # 第三層 - 卷積層\n",
    "    x = Conv2D(64, (3, 3), activation='relu')(x)\n",
    "\n",
    "    # 第四層 - 卷積層 + 池化層\n",
    "    x = Conv2D(64, (3, 3), activation='relu')(x)\n",
    "    x = MaxPooling2D(pool_size=(2, 2))(x)\n",
    "\n",
    "    # 建立分類模型 (MLP) : 平坦層 + 輸出層 (10)\n",
    "    x = Flatten()(x)\n",
    "    outputs = Dense(10, activation='softmax')(x)\n",
    "\n",
    "    cnn_model = Model(inputs=inputs, outputs=outputs)\n",
    "    return cnn_model"
   ]
  },
  {
   "cell_type": "code",
   "execution_count": 4,
   "metadata": {},
   "outputs": [],
   "source": [
    "def model_trainable(model, under):\n",
    "    for layer in model.layers:\n",
    "        layer.trainable = False\n",
    "    for layer in model.layers[under:]:\n",
    "        layer.trainable = True\n",
    "        \n",
    "    for i in model.layers:\n",
    "        print(i.trainable)"
   ]
  },
  {
   "cell_type": "markdown",
   "metadata": {},
   "source": [
    "## Training"
   ]
  },
  {
   "cell_type": "markdown",
   "metadata": {},
   "source": [
    "### data gathering"
   ]
  },
  {
   "cell_type": "code",
   "execution_count": 5,
   "metadata": {},
   "outputs": [
    {
     "name": "stdout",
     "output_type": "stream",
     "text": [
      "(60000, 28, 28)\n",
      "(28, 28)\n"
     ]
    }
   ],
   "source": [
    "mnist = tf.keras.datasets.mnist\n",
    "(X_train, y_train), (X_test_origin, y_test_origin) = mnist.load_data()\n",
    "\n",
    "# 標準化數據\n",
    "X_train = X_train/255.0\n",
    "X_test_origin = X_test_origin/255.0\n",
    "print(X_train.shape)\n",
    "print(X_train[0].shape)"
   ]
  },
  {
   "cell_type": "code",
   "execution_count": 6,
   "metadata": {},
   "outputs": [],
   "source": [
    "idx = np.argsort(y_train)\n",
    "x_train_sorted = X_train[idx]\n",
    "y_train_sorted = y_train[idx]\n",
    "\n"
   ]
  },
  {
   "cell_type": "markdown",
   "metadata": {},
   "source": [
    "### Initial Model "
   ]
  },
  {
   "cell_type": "code",
   "execution_count": 7,
   "metadata": {},
   "outputs": [],
   "source": [
    "model = simplecnn('server_model')"
   ]
  },
  {
   "cell_type": "markdown",
   "metadata": {},
   "source": [
    "### aggregation func."
   ]
  },
  {
   "cell_type": "code",
   "execution_count": 8,
   "metadata": {},
   "outputs": [],
   "source": [
    "from tensorflow.keras.models import clone_model\n",
    "\n",
    "def avg_weight(choice, Gmodel, client_list):\n",
    "    tmp_model = clone_model(Gmodel) # Gmdoel  \n",
    "    tmp_model.set_weights(Gmodel.get_weights()) # Gmdoel servermodel\n",
    "    models = []\n",
    "    weighting = []\n",
    "    for _ in choice: # idx of selected client\n",
    "        models.append(client_list['client'+str(_)].model)\n",
    "        weighting.append(len(client_list['client'+str(_)].data))\n",
    "        \n",
    "    weights = [model.get_weights() for model in models]\n",
    "    new_weights = list()\n",
    "    \n",
    "    weighting = np.array(weighting)/np.sum(weighting)\n",
    "\n",
    "    weights = [i for i in weights]\n",
    "    \n",
    "    for i in zip(*weights):\n",
    "        a = np.average(i, weights=weighting, axis=0)\n",
    "        new_weights.append(a)\n",
    "    \n",
    "    pt = 0\n",
    "    for i in range(len(tmp_model.layers)):\n",
    "        a = tmp_model.layers[i]\n",
    "\n",
    "        if len(a.get_weights()) != 0:\n",
    "            a.set_weights(new_weights[pt:len(a.get_weights())+pt])\n",
    "            pt+=len(a.get_weights())\n",
    "    del models, weighting, new_weights\n",
    "    return tmp_model\n"
   ]
  },
  {
   "cell_type": "code",
   "execution_count": 9,
   "metadata": {},
   "outputs": [],
   "source": [
    "def model_check(model_1, model_2):\n",
    "    a = model_1.get_weights()\n",
    "    for i in range(len(a)):\n",
    "#         print(i)\n",
    "        if np.array_equal(model_1.get_weights()[i], model_2.get_weights()[i]):\n",
    "            print('layer %d is equal'%i)\n",
    "            pass\n",
    "        else:\n",
    "#             print('Model not equal')\n",
    "            print('layer %d is not equal'%i)\n",
    "    \n"
   ]
  },
  {
   "cell_type": "markdown",
   "metadata": {},
   "source": [
    "## Initial Client "
   ]
  },
  {
   "cell_type": "markdown",
   "metadata": {},
   "source": [
    "### Define clinet "
   ]
  },
  {
   "cell_type": "code",
   "execution_count": 10,
   "metadata": {},
   "outputs": [],
   "source": [
    "class clint_k():\n",
    "    \n",
    "    def __init__(self, name):\n",
    "        self.name = name\n",
    "        \n",
    "        self.attri = {'name':self.name}\n",
    "    def set_content(self, data, label, model):\n",
    "        content = {'name': self.name, 'data':data, 'label':label, 'model':model}\n",
    "        self.data = data\n",
    "        self.label = label\n",
    "        self.model = model\n",
    "        values_list = [self.name, self.data, self.label, self.model]\n",
    "        keys_list = ['name','data', 'label', 'model']\n",
    "        self.attri = dict(zip(keys_list, values_list))\n",
    "        return content\n",
    "    def show_content(self):\n",
    "\n",
    "        return self.attri"
   ]
  },
  {
   "cell_type": "markdown",
   "metadata": {},
   "source": [
    "### stuff data, model into client"
   ]
  },
  {
   "cell_type": "code",
   "execution_count": 11,
   "metadata": {},
   "outputs": [],
   "source": [
    "from utils import *\n",
    "\n",
    "def split_client(x, y, method = bySample_bal_split, K = 6):\n",
    "    \n",
    "#     hyper_para['K'] \n",
    "    K = K\n",
    "\n",
    "    split_method = {}\n",
    "    # split_method['method'] = lambda x,y,k : byClasses_inbal_split(x,y,k)\n",
    "    split_method['method'] = bySample_bal_split\n",
    "\n",
    "\n",
    "    subset= split_method['method'](x_train_sorted, y_train_sorted, K)\n",
    "    view_clientDict(subset)\n",
    "    return subset\n",
    "    \n",
    "# _ = split_client(x_train_sorted, y_train_sorted, bySample_bal_split, 4)\n"
   ]
  },
  {
   "cell_type": "code",
   "execution_count": null,
   "metadata": {},
   "outputs": [],
   "source": [
    "train_dataset = tf.data.Dataset.from_tensor_slices((X_train_, y_train_))\n",
    "train_dataset = train_dataset.shuffle(buffer_size=1024).prefetch(batch_size).batch(batch_size)"
   ]
  },
  {
   "cell_type": "code",
   "execution_count": 12,
   "metadata": {},
   "outputs": [
    {
     "name": "stdout",
     "output_type": "stream",
     "text": [
      ">>> 分割給 4 個client\n",
      ">>> subset client0 資料維度\n",
      "-- data shape (15000, 28, 28) --label shape (15000,)\n",
      ">>> subset client3 資料維度\n",
      "-- data shape (15000, 28, 28) --label shape (15000,)\n"
     ]
    },
    {
     "data": {
      "image/png": "[encoded data removed]",
      "text/plain": [
       "<Figure size 864x432 with 1 Axes>"
      ]
     },
     "metadata": {
      "needs_background": "light"
     },
     "output_type": "display_data"
    },
    {
     "name": "stdout",
     "output_type": "stream",
     "text": [
      "dict_keys(['client0', 'client1', 'client2', 'client3'])\n"
     ]
    }
   ],
   "source": [
    "from tensorflow.keras.models import clone_model\n",
    "\n",
    "\n",
    "Gmodel = simplecnn('server_model')\n",
    "\n",
    "hyper_para = dict()\n",
    "hyper_para['K'] = 4\n",
    "subset = split_client(x_train_sorted, y_train_sorted, bySample_bal_split, hyper_para['K'])\n",
    "\n",
    "client_list = dict() \n",
    "\n",
    "for _ in list(subset.keys()):\n",
    "\n",
    "    client_list[_] = clint_k(_)\n",
    "    client_list[_].set_content(data = subset[_][0], # setting data and weight\n",
    "                               label = subset[_][1], model = clone_model(Gmodel))\n",
    "    client_list[_].model.set_weights(Gmodel.get_weights())\n",
    "print(client_list.keys())\n"
   ]
  },
  {
   "cell_type": "markdown",
   "metadata": {},
   "source": [
    "### start training"
   ]
  },
  {
   "cell_type": "code",
   "execution_count": 13,
   "metadata": {},
   "outputs": [
    {
     "name": "stdout",
     "output_type": "stream",
     "text": [
      "{'K': 4, 'B': 1024, 'C': 0.5, 'E': 3, 'mu': 0}\n"
     ]
    }
   ],
   "source": [
    "import numpy as np\n",
    "# batchsize\n",
    "hyper_para['B'] = 1024\n",
    "\n",
    "# choice\n",
    "# C = 1\n",
    "hyper_para['C'] = 0.5\n",
    "\n",
    "# Epochs\n",
    "hyper_para['E'] = 3\n",
    "\n",
    "hyper_para['mu'] = 0\n",
    "\n",
    "\n",
    "print(hyper_para)"
   ]
  },
  {
   "cell_type": "code",
   "execution_count": 14,
   "metadata": {},
   "outputs": [],
   "source": [
    "# from sklearn.metrics import accuracy_score\n",
    "# import numpy as np\n",
    "    \n",
    "# def acc_model(X_test, y_test, model, num):\n",
    "\n",
    "    \n",
    "#     a = np.random.choice(len(X_test), num)\n",
    "# #     print(a)\n",
    "#     y_pred = model.predict(X_test[a])\n",
    "#     y_pred = np.argmax(y_pred,axis=1)\n",
    "#     print(y_pred[0:10])\n",
    "#     y_true = y_test[a]\n",
    "#     print(y_true[0:10])\n",
    "# #     print(accuracy_score(y_true, y_pred))\n",
    "#     return accuracy_score(y_true, y_pred)"
   ]
  },
  {
   "cell_type": "code",
   "execution_count": 15,
   "metadata": {},
   "outputs": [],
   "source": [
    "# a = Gmodel.weights[0]\n",
    "# tf.norm(a)\n",
    "# tf.norm([tf.norm(a) for a in Gmodel.weights])\n",
    "# # tf.norm(b, axis=[-2,-1])"
   ]
  },
  {
   "cell_type": "code",
   "execution_count": 16,
   "metadata": {
    "scrolled": true
   },
   "outputs": [
    {
     "name": "stdout",
     "output_type": "stream",
     "text": [
      "0\n",
      "*************************************\n",
      "Training on client3\n",
      "Training acc over epoch: 0.4310\n",
      "Training acc over epoch: 0.7375\n",
      "Training acc over epoch: 0.7641\n",
      "Time taken: 4.07s\n",
      "*************************************\n",
      "Training on client1\n",
      "Training acc over epoch: 0.6236\n",
      "Training acc over epoch: 0.7453\n",
      "Training acc over epoch: 0.7518\n",
      "Time taken: 2.51s\n",
      "Global model Validation acc on global valdation set: 0.2112\n",
      "1\n",
      "*************************************\n",
      "Training on client2\n",
      "Training acc over epoch: 0.0697\n",
      "Training acc over epoch: 0.2376\n",
      "Training acc over epoch: 0.2429\n",
      "Time taken: 2.51s\n",
      "*************************************\n",
      "Training on client1\n",
      "Training acc over epoch: 0.7217\n",
      "Training acc over epoch: 0.7501\n",
      "Training acc over epoch: 0.7533\n",
      "Time taken: 2.51s\n",
      "Global model Validation acc on global valdation set: 0.1542\n",
      "2\n",
      "*************************************\n",
      "Training on client0\n",
      "Training acc over epoch: 0.0081\n",
      "Training acc over epoch: 0.1561\n",
      "Training acc over epoch: 0.8218\n",
      "Time taken: 2.51s\n",
      "*************************************\n",
      "Training on client3\n",
      "Training acc over epoch: 0.4709\n",
      "Training acc over epoch: 0.5924\n",
      "Training acc over epoch: 0.8812\n",
      "Time taken: 2.50s\n",
      "Global model Validation acc on global valdation set: 0.3544\n",
      "3\n",
      "*************************************\n",
      "Training on client1\n",
      "Training acc over epoch: 0.6504\n",
      "Training acc over epoch: 0.9402\n",
      "Training acc over epoch: 0.9651\n",
      "Time taken: 2.50s\n",
      "*************************************\n",
      "Training on client0\n",
      "Training acc over epoch: 0.9813\n",
      "Training acc over epoch: 0.9879\n",
      "Training acc over epoch: 0.9902\n",
      "Time taken: 2.50s\n",
      "Global model Validation acc on global valdation set: 0.2701\n",
      "4\n",
      "*************************************\n",
      "Training on client3\n",
      "Training acc over epoch: 0.3407\n",
      "Training acc over epoch: 0.7239\n",
      "Training acc over epoch: 0.9419\n",
      "Time taken: 2.53s\n",
      "*************************************\n",
      "Training on client0\n",
      "Training acc over epoch: 0.9296\n",
      "Training acc over epoch: 0.9856\n",
      "Training acc over epoch: 0.9880\n",
      "Time taken: 2.50s\n",
      "Global model Validation acc on global valdation set: 0.5538\n",
      "5\n",
      "*************************************\n",
      "Training on client3\n",
      "Training acc over epoch: 0.9463\n",
      "Training acc over epoch: 0.9679\n",
      "Training acc over epoch: 0.9781\n",
      "Time taken: 2.50s\n",
      "*************************************\n",
      "Training on client0\n",
      "Training acc over epoch: 0.9844\n",
      "Training acc over epoch: 0.9919\n",
      "Training acc over epoch: 0.9938\n",
      "Time taken: 2.50s\n",
      "Global model Validation acc on global valdation set: 0.5438\n",
      "6\n",
      "*************************************\n",
      "Training on client0\n",
      "Training acc over epoch: 0.9924\n",
      "Training acc over epoch: 0.9947\n",
      "Training acc over epoch: 0.9961\n",
      "Time taken: 2.50s\n",
      "*************************************\n",
      "Training on client3\n",
      "Training acc over epoch: 0.9529\n",
      "Training acc over epoch: 0.9787\n",
      "Training acc over epoch: 0.9830\n",
      "Time taken: 2.52s\n",
      "Global model Validation acc on global valdation set: 0.5681\n",
      "7\n",
      "*************************************\n",
      "Training on client0\n",
      "Training acc over epoch: 0.9873\n",
      "Training acc over epoch: 0.9962\n",
      "Training acc over epoch: 0.9967\n",
      "Time taken: 2.50s\n",
      "*************************************\n",
      "Training on client2\n",
      "Training acc over epoch: 0.2030\n",
      "Training acc over epoch: 0.6172\n",
      "Training acc over epoch: 0.9687\n",
      "Time taken: 2.51s\n",
      "Global model Validation acc on global valdation set: 0.6256\n",
      "8\n",
      "*************************************\n",
      "Training on client1\n",
      "Training acc over epoch: 0.5819\n",
      "Training acc over epoch: 0.7705\n",
      "Training acc over epoch: 0.9707\n",
      "Time taken: 2.50s\n",
      "*************************************\n",
      "Training on client0\n",
      "Training acc over epoch: 0.9930\n",
      "Training acc over epoch: 0.9960\n",
      "Training acc over epoch: 0.9970\n",
      "Time taken: 2.51s\n",
      "Global model Validation acc on global valdation set: 0.4289\n",
      "9\n",
      "*************************************\n",
      "Training on client2\n",
      "Training acc over epoch: 0.5518\n",
      "Training acc over epoch: 0.9456\n",
      "Training acc over epoch: 0.9508\n",
      "Time taken: 2.52s\n",
      "*************************************\n",
      "Training on client0\n",
      "Training acc over epoch: 0.9796\n",
      "Training acc over epoch: 0.9953\n",
      "Training acc over epoch: 0.9959\n",
      "Time taken: 2.50s\n",
      "Global model Validation acc on global valdation set: 0.4824\n"
     ]
    }
   ],
   "source": [
    "import numpy as np\n",
    "import pandas as pd\n",
    "from sklearn.model_selection import train_test_split\n",
    "import tensorflow as tf\n",
    "import time\n",
    "\n",
    "acc_test = []\n",
    "\n",
    "if not 'rounds_' in list(locals().keys()):\n",
    "    rounds_ = 10\n",
    "for rounds in range(rounds_):\n",
    "    print(rounds)\n",
    "    clients = range(hyper_para['K'])\n",
    "    \n",
    "    size = int(np.ceil(hyper_para['C']*hyper_para['K']))\n",
    "    choice = np.random.choice(clients, size = size, replace=False)\n",
    "\n",
    "\n",
    "    #--------------------\n",
    "    batch_size = hyper_para['B']\n",
    "    epochs = hyper_para['E']\n",
    "    u = hyper_para['mu']\n",
    "\n",
    "\n",
    "    for _ in choice:\n",
    "        print('*************************************')\n",
    "        print('Training on client'+str(_))\n",
    "        client = client_list['client'+str(_)]\n",
    "\n",
    "        \n",
    "        model = client.model\n",
    "        \n",
    "        # Instantiate an optimizer to train the model.\n",
    "        optimizer = tf.keras.optimizers.Adam(learning_rate=1e-3)\n",
    "        # Instantiate a loss function.\n",
    "        loss_fn = tf.keras.losses.SparseCategoricalCrossentropy(from_logits=True)\n",
    "        \n",
    "        # Prepare the metrics.\n",
    "        train_acc_metric = tf.keras.metrics.SparseCategoricalAccuracy()\n",
    "#         val_acc_metric = tf.keras.metrics.SparseCategoricalAccuracy()\n",
    "        \n",
    "\n",
    "        X_train_, X_test_, y_train_, y_test_ = train_test_split(\n",
    "                client.data, client.label, test_size=0.1)\n",
    "\n",
    "\n",
    "        # Prepare the training dataset.\n",
    "        train_dataset = tf.data.Dataset.from_tensor_slices((X_train_, y_train_))\n",
    "#         train_dataset = train_dataset.shuffle(buffer_size=1024).prefetch(batch_size).batch(batch_size)\n",
    "        train_dataset = train_dataset.shuffle(buffer_size=1024).prefetch(batch_size).batch(batch_size)\n",
    "        \n",
    "#         train_acc = []\n",
    "        \n",
    "        #------------------------------------------\n",
    "        start_time = time.time()\n",
    "        for epoch in range(epochs):\n",
    "#             print('epoch = ',epoch)\n",
    "            # Iterate over the batches of the dataset.\n",
    "            for step, (x_batch_train, y_batch_train) in enumerate(train_dataset):\n",
    "\n",
    "                # Open a GradientTape to record the operations run\n",
    "                # during the forward pass, which enables auto-differentiation.\n",
    "                with tf.GradientTape(persistent=True) as tape:\n",
    "\n",
    "                    # Run the forward pass of the layer.\n",
    "                    # The operations that the layer applies\n",
    "                    # to its inputs are going to be recorded\n",
    "                    # on the GradientTape.\n",
    "                    logits = model(x_batch_train, training=True)  # Logits for this minibatch\n",
    "\n",
    "                    # Compute the loss value for this minibatch.\n",
    "                    loss_value = loss_fn(y_batch_train, logits)\n",
    "#                     print(loss_value)\n",
    "\n",
    "\n",
    "                    ## proximal term ========================================================\n",
    "                    weights = [model.get_weights() for model in [model, Gmodel]]\n",
    "                    new_weights = list()\n",
    "\n",
    "                    for weights_list_tuple in zip(*weights):\n",
    "                        new_weights.append(\n",
    "                            [np.subtract(weights_[0], weights_[1])\\\n",
    "                                for weights_ in zip(*weights_list_tuple)])\n",
    "                    weight_diff = new_weights\n",
    "                    diff_2norm =  tf.norm([tf.norm(a) for a in weight_diff])\n",
    "\n",
    "                    \n",
    "                    proximal_term = 0.5*u*diff_2norm\n",
    "                    loss_value+=proximal_term\n",
    "                ## proximal term End ========================================================\n",
    "    \n",
    "                # Use the gradient tape to automatically retrieve\n",
    "                # the gradients of the trainable variables with respect to the loss.\n",
    "                grads = tape.gradient(loss_value, model.trainable_weights)\n",
    "                \n",
    "                # Run one step of gradient descent by updating\n",
    "                # the value of the variables to minimize the loss.\n",
    "                optimizer.apply_gradients(zip(grads, model.trainable_weights))\n",
    "                \n",
    "            \n",
    "                # Update training metric.\n",
    "                train_acc_metric.update_state(y_batch_train, logits)\n",
    "                \n",
    "                \n",
    "            # Display metrics at the end of each epoch.\n",
    "            train_acc = train_acc_metric.result()\n",
    "            print(\"Training acc over epoch: %.4f\" % (float(train_acc),))\n",
    "#             train_acc.append(float(train_acc)) # 取得 acc\n",
    "            \n",
    "            # Reset training metrics at the end of each epoch\n",
    "            train_acc_metric.reset_states()\n",
    "        \n",
    "            \n",
    "        \n",
    "        print(\"Time taken: %.2fs\" % (time.time() - start_time))\n",
    "        #----------------------------------\n",
    "        \n",
    "    \n",
    "    Gmodel = avg_weight(choice, Gmodel, client_list)\n",
    "    for i in client_list:\n",
    "        client_list[i].model.set_weights(Gmodel.get_weights()) \n",
    "\n",
    "        \n",
    "        \n",
    "    # Prepare the global validation dataset. \n",
    "    val_dataset = tf.data.Dataset.from_tensor_slices((X_test_origin, y_test_origin))\n",
    "    val_dataset = val_dataset.batch(batch_size//10)\n",
    "    \n",
    "    val_acc_metric = tf.keras.metrics.SparseCategoricalAccuracy()\n",
    "#     if rounds % 5 == 0:\n",
    "        \n",
    "    for x_batch_val, y_batch_val in val_dataset:\n",
    "            val_logits = Gmodel(x_batch_val, training=False)\n",
    "            # Update val metrics\n",
    "            val_acc_metric.update_state(y_batch_val, val_logits)\n",
    "    val_acc = val_acc_metric.result()\n",
    "    val_acc_metric.reset_states()\n",
    "    print(\"Global model Validation acc on global valdation set: %.4f\" % (float(val_acc),))\n",
    "\n",
    "    acc_test.append(float(val_acc))\n",
    "    \n"
   ]
  },
  {
   "cell_type": "code",
   "execution_count": 17,
   "metadata": {},
   "outputs": [],
   "source": [
    "import pandas as pd\n",
    "import time\n",
    "timestr = time.strftime(\"%Y%m%d-%H%M%S\")\n",
    "df = pd.DataFrame(acc_test, columns=['Gmodel acc'])\n",
    "\n",
    "df['hyper_keys'] = pd.DataFrame(hyper_para.keys())\n",
    "df['hyper_item'] = pd.DataFrame(hyper_para.values())\n",
    "\n",
    "\n",
    "df.to_csv('./data/acc_test_'+timestr+'.csv', index=False)"
   ]
  },
  {
   "cell_type": "code",
   "execution_count": null,
   "metadata": {},
   "outputs": [],
   "source": []
  },
  {
   "cell_type": "code",
   "execution_count": null,
   "metadata": {},
   "outputs": [],
   "source": []
  },
  {
   "cell_type": "code",
   "execution_count": null,
   "metadata": {},
   "outputs": [],
   "source": []
  },
  {
   "cell_type": "code",
   "execution_count": null,
   "metadata": {},
   "outputs": [],
   "source": []
  },
  {
   "cell_type": "code",
   "execution_count": null,
   "metadata": {},
   "outputs": [],
   "source": []
  },
  {
   "cell_type": "code",
   "execution_count": null,
   "metadata": {},
   "outputs": [],
   "source": []
  },
  {
   "cell_type": "code",
   "execution_count": null,
   "metadata": {},
   "outputs": [],
   "source": []
  },
  {
   "cell_type": "code",
   "execution_count": null,
   "metadata": {},
   "outputs": [],
   "source": []
  },
  {
   "cell_type": "code",
   "execution_count": null,
   "metadata": {},
   "outputs": [],
   "source": []
  },
  {
   "cell_type": "code",
   "execution_count": null,
   "metadata": {},
   "outputs": [],
   "source": []
  },
  {
   "cell_type": "code",
   "execution_count": null,
   "metadata": {},
   "outputs": [],
   "source": []
  }
 ],
 "metadata": {
  "kernelspec": {
   "display_name": "Python 3",
   "language": "python",
   "name": "python3"
  },
  "language_info": {
   "codemirror_mode": {
    "name": "ipython",
    "version": 3
   },
   "file_extension": ".py",
   "mimetype": "text/x-python",
   "name": "python",
   "nbconvert_exporter": "python",
   "pygments_lexer": "ipython3",
   "version": "3.7.6"
  }
 },
 "nbformat": 4,
 "nbformat_minor": 4
}
