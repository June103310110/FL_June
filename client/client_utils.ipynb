{
 "cells": [
  {
   "cell_type": "code",
   "execution_count": 6,
   "metadata": {},
   "outputs": [
    {
     "name": "stdout",
     "output_type": "stream",
     "text": [
      "Overwriting client_utils.py\n"
     ]
    }
   ],
   "source": [
    "%%writefile client_utils.py\n",
    "import tensorflow as tf\n",
    "\n",
    "class client():\n",
    "    def __init__(self, name, dataset, model, \n",
    "                optimizer = tf.keras.optimizers.SGD(learning_rate=1e-3),\n",
    "                loss_fn = tf.keras.losses.SparseCategoricalCrossentropy(from_logits=True),\n",
    "                metrics = [tf.keras.metrics.SparseCategoricalAccuracy()]\n",
    "                ):\n",
    "        self.name = name\n",
    "        self.dataset = dataset  \n",
    "        self.model = model\n",
    "        self.optimizer = optimizer\n",
    "        self.loss_fn = loss_fn\n",
    "        \n",
    "        self.attri = {'name':self.name, 'dataset':self.dataset, 'optimizer': self.optimizer,\n",
    "                     'loss_fn' : self.loss_fn}\n",
    "        \n",
    "        self.model.compile(self.optimizer, loss_fn,\n",
    "                          metrics=metrics)\n",
    "        \n",
    "    def get_config(self):\n",
    "        config = self.attri\n",
    "        config['model'] = self.model\n",
    "        config['optimizer'] = self.optimizer\n",
    "        config['loss_fn'] = self.loss_fn\n",
    "        return self.attri"
   ]
  },
  {
   "cell_type": "code",
   "execution_count": null,
   "metadata": {},
   "outputs": [],
   "source": []
  }
 ],
 "metadata": {
  "kernelspec": {
   "display_name": "Python 3",
   "language": "python",
   "name": "python3"
  },
  "language_info": {
   "codemirror_mode": {
    "name": "ipython",
    "version": 3
   },
   "file_extension": ".py",
   "mimetype": "text/x-python",
   "name": "python",
   "nbconvert_exporter": "python",
   "pygments_lexer": "ipython3",
   "version": "3.7.6"
  }
 },
 "nbformat": 4,
 "nbformat_minor": 4
}
