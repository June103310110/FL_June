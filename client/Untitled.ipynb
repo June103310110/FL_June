{
 "cells": [
  {
   "cell_type": "code",
   "execution_count": 16,
   "metadata": {},
   "outputs": [
    {
     "name": "stdout",
     "output_type": "stream",
     "text": [
      "{'gitURL': 'https://gitlab.aiacademy.tw/junew/federated_aia_test.git', 'account': 'at102091:12345678'}\n"
     ]
    }
   ],
   "source": [
    "with open('account.cfg', 'r') as f:\n",
    "    r = f.read()\n",
    "    \n",
    "    dic = {}\n",
    "    for i in r.splitlines():\n",
    "        i = [item.strip() for item in i.split('=')]\n",
    "#         print(i.split('='))\n",
    "        dic[i[0]] = i[1]\n",
    "    print(dic)\n",
    "gitURL = dic['gitURL']\n",
    "account = dic['account']\n"
   ]
  },
  {
   "cell_type": "code",
   "execution_count": null,
   "metadata": {},
   "outputs": [],
   "source": []
  }
 ],
 "metadata": {
  "kernelspec": {
   "display_name": "Python 3",
   "language": "python",
   "name": "python3"
  },
  "language_info": {
   "codemirror_mode": {
    "name": "ipython",
    "version": 3
   },
   "file_extension": ".py",
   "mimetype": "text/x-python",
   "name": "python",
   "nbconvert_exporter": "python",
   "pygments_lexer": "ipython3",
   "version": "3.7.6"
  }
 },
 "nbformat": 4,
 "nbformat_minor": 4
}
