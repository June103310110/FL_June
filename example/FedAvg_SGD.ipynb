{
 "cells": [
  {
   "cell_type": "code",
   "execution_count": 15,
   "metadata": {},
   "outputs": [],
   "source": [
    "import tensorflow as tf\n",
    "from tensorflow.keras.models import clone_model\n",
    "from model_utils import simplecnn\n",
    "import numpy as np"
   ]
  },
  {
   "cell_type": "code",
   "execution_count": 16,
   "metadata": {},
   "outputs": [],
   "source": [
    "import tensorflow as tf\n",
    "gpus = tf.config.list_physical_devices(device_type='GPU')\n",
    "for gpu in gpus:\n",
    "    tf.config.experimental.set_memory_growth(device=gpu, enable=True)"
   ]
  },
  {
   "cell_type": "code",
   "execution_count": 17,
   "metadata": {},
   "outputs": [],
   "source": [
    "class clint_k():\n",
    "    def __init__(self, name, dataset, model, \n",
    "                optimizer = tf.keras.optimizers.SGD(learning_rate=1e-3),\n",
    "                loss_fn = tf.keras.losses.SparseCategoricalCrossentropy(from_logits=True),\n",
    "                metrics = [tf.keras.metrics.SparseCategoricalAccuracy()]\n",
    "                ):\n",
    "        self.name = name\n",
    "        self.dataset = dataset  \n",
    "        self.model = model\n",
    "        self.optimizer = optimizer\n",
    "        self.loss_fn = loss_fn\n",
    "        \n",
    "        self.attri = {'name':self.name, 'dataset':self.dataset, 'optimizer': self.optimizer,\n",
    "                     'loss_fn' : self.loss_fn}\n",
    "        \n",
    "        self.model.compile(self.optimizer, loss_fn,\n",
    "                          metrics=metrics)\n",
    "        self.warmingUp = False\n",
    "        \n",
    "    def get_config(self):\n",
    "        config = self.attri\n",
    "        config['model'] = self.model\n",
    "        config['optimizer'] = self.optimizer\n",
    "        config['loss_fn'] = self.loss_fn\n",
    "        config['warmingUp'] = self.warmingUp\n",
    "        return self.attri"
   ]
  },
  {
   "cell_type": "code",
   "execution_count": 18,
   "metadata": {},
   "outputs": [],
   "source": [
    "from utils import *\n",
    "\n",
    "def split_client(x, y, method = bySample_bal_split, K = 6):\n",
    "    \n",
    "    K = K\n",
    "\n",
    "    split_method = {}\n",
    "    # split_method['method'] = lambda x,y,k : byClasses_inbal_split(x,y,k)\n",
    "    split_method['method'] = bySample_bal_split\n",
    "\n",
    "\n",
    "    subset= split_method['method'](x, y, K)\n",
    "    view_clientDict(subset)\n",
    "    return subset\n",
    "    "
   ]
  },
  {
   "cell_type": "code",
   "execution_count": 19,
   "metadata": {},
   "outputs": [
    {
     "name": "stdout",
     "output_type": "stream",
     "text": [
      "(60000, 28, 28)\n",
      "(28, 28)\n"
     ]
    }
   ],
   "source": [
    "mnist = tf.keras.datasets.mnist\n",
    "(X_train, y_train), (X_test, y_test) = mnist.load_data()\n",
    "\n",
    "# 標準化數據\n",
    "X_train = X_train/255.0\n",
    "X_test = X_test/255.0\n",
    "print(X_train.shape)\n",
    "print(X_train[0].shape)\n",
    "\n",
    "idx = np.argsort(y_train)\n",
    "x_train_sorted = X_train[idx]\n",
    "y_train_sorted = y_train[idx]"
   ]
  },
  {
   "cell_type": "code",
   "execution_count": 20,
   "metadata": {},
   "outputs": [],
   "source": [
    "hyper_para = dict()\n",
    "\n",
    "hyper_para['C'] = 0.3\n",
    "\n",
    "if not 'k_' in list(locals().keys()):\n",
    "    hyper_para['K'] = 12\n",
    "else:\n",
    "    hyper_para['K'] = k_ # argparse\n",
    "\n",
    "hyper_para['B'] = 1024 # faster?\n",
    "\n",
    "hyper_para['mu'] = 0.01"
   ]
  },
  {
   "cell_type": "code",
   "execution_count": 21,
   "metadata": {},
   "outputs": [
    {
     "name": "stdout",
     "output_type": "stream",
     "text": [
      ">>> 分割給 12 個client\n",
      ">>> subset client0 資料維度\n",
      "-- data shape (5000, 28, 28) --label shape (5000,)\n",
      ">>> subset client11 資料維度\n",
      "-- data shape (5000, 28, 28) --label shape (5000,)\n"
     ]
    },
    {
     "data": {
      "image/png": "[encoded data removed]",
      "text/plain": [
       "<Figure size 864x432 with 1 Axes>"
      ]
     },
     "metadata": {
      "needs_background": "light"
     },
     "output_type": "display_data"
    },
    {
     "name": "stdout",
     "output_type": "stream",
     "text": [
      "client0\n",
      "client1\n",
      "client2\n",
      "client3\n",
      "client4\n",
      "client5\n",
      "client6\n",
      "client7\n",
      "client8\n",
      "client9\n",
      "client10\n",
      "client11\n"
     ]
    }
   ],
   "source": [
    "from tensorflow.keras.models import clone_model\n",
    "\n",
    "\n",
    "Gmodel = simplecnn('server_model')\n",
    "loss_fn = tf.keras.losses.SparseCategoricalCrossentropy(from_logits=True)\n",
    "metrics = [tf.keras.metrics.SparseCategoricalAccuracy()]\n",
    "optimizer = tf.keras.optimizers.SGD()\n",
    "# optimizer = PerturbedGradientDescent(mu=hyper_para['mu']\n",
    "Gmodel.compile(optimizer, loss_fn, metrics)\n",
    "\n",
    "# print(Gmodel.trainable_variables)\n",
    "# hyper_para = dict()\n",
    "\n",
    "# if not 'k_' in list(locals().keys()):\n",
    "#     hyper_para['K'] = 12\n",
    "# else:\n",
    "#     hyper_para['K'] = k_ # argparse\n",
    "\n",
    "# hyper_para['B'] = 1024 # faster?\n",
    "B = hyper_para['B']\n",
    "\n",
    "hyper_para['split_method'] = str(bySample_bal_split).split(' ')[1]\n",
    "\n",
    "subset = split_client(x_train_sorted, y_train_sorted, bySample_bal_split, hyper_para['K'])\n",
    "\n",
    "client_list = dict() \n",
    "\n",
    "for _ in list(subset.keys()):\n",
    "    \n",
    "    train_dataset = tf.data.Dataset.from_tensor_slices((subset[_][0], subset[_][1])).batch(B).prefetch(B).shuffle(buffer_size=1024)\n",
    "    \n",
    "    tmp_model = tf.keras.models.clone_model(Gmodel)\n",
    "    tmp_model.set_weights(Gmodel.get_weights())\n",
    "    \n",
    "    client_list[_] = clint_k(name=_, dataset=train_dataset, model=tmp_model,\n",
    "#                optimizer = PerturbedGradientDescent(mu=hyper_para['mu']))\n",
    "                             optimizer = optimizer)\n",
    "#     client_list[_].model.set_weights(Gmodel.get_weights())\n",
    "    \n",
    "    print(client_list[_].name)\n",
    "#     client_list[_].warming_up()\n"
   ]
  },
  {
   "cell_type": "code",
   "execution_count": 22,
   "metadata": {},
   "outputs": [],
   "source": [
    "def model_equal_validation(model1, model2, display=False, string=''):\n",
    "#     print(string)\n",
    "    true_lis = []\n",
    "    for layer in range(len(model1.trainable_variables)):\n",
    "        a = np.array_equal(model1.trainable_variables[layer].numpy(),\n",
    "                         model2.trainable_variables[layer].numpy())\n",
    "        true_lis.append(a)\n",
    "    if display:\n",
    "        print(string,'\\t>>>', all(true_lis))\n",
    "#     string_ = string+'  >>>'+ str(all(true_lis))\n",
    "    return all(true_lis)"
   ]
  },
  {
   "cell_type": "code",
   "execution_count": 23,
   "metadata": {},
   "outputs": [
    {
     "data": {
      "text/plain": [
       "True"
      ]
     },
     "execution_count": 23,
     "metadata": {},
     "output_type": "execute_result"
    }
   ],
   "source": [
    "model_equal_validation(model1 = client_list['client0'].model, \n",
    "                       model2 = client_list['client1'].model)"
   ]
  },
  {
   "cell_type": "code",
   "execution_count": 24,
   "metadata": {},
   "outputs": [
    {
     "data": {
      "text/plain": [
       "{'client0': <__main__.clint_k at 0x7f19611adb10>,\n",
       " 'client1': <__main__.clint_k at 0x7f196117ff50>,\n",
       " 'client2': <__main__.clint_k at 0x7f1820703410>,\n",
       " 'client3': <__main__.clint_k at 0x7f19610f85d0>,\n",
       " 'client4': <__main__.clint_k at 0x7f19610da450>,\n",
       " 'client5': <__main__.clint_k at 0x7f1961095e10>,\n",
       " 'client6': <__main__.clint_k at 0x7f196104edd0>,\n",
       " 'client7': <__main__.clint_k at 0x7f196100be10>,\n",
       " 'client8': <__main__.clint_k at 0x7f1960fa9a10>,\n",
       " 'client9': <__main__.clint_k at 0x7f1960fe6410>,\n",
       " 'client10': <__main__.clint_k at 0x7f1960f40290>,\n",
       " 'client11': <__main__.clint_k at 0x7f1960f4d6d0>}"
      ]
     },
     "execution_count": 24,
     "metadata": {},
     "output_type": "execute_result"
    }
   ],
   "source": [
    "client_list"
   ]
  },
  {
   "cell_type": "code",
   "execution_count": 25,
   "metadata": {
    "scrolled": true
   },
   "outputs": [
    {
     "name": "stdout",
     "output_type": "stream",
     "text": [
      "<tensorflow.python.keras.optimizer_v2.gradient_descent.SGD object at 0x7f1961306cd0>\n",
      "<tensorflow.python.keras.optimizer_v2.gradient_descent.SGD object at 0x7f1961306cd0>\n",
      "<tensorflow.python.keras.optimizer_v2.gradient_descent.SGD object at 0x7f1961306cd0>\n",
      "<tensorflow.python.keras.optimizer_v2.gradient_descent.SGD object at 0x7f1961306cd0>\n",
      "<tensorflow.python.keras.optimizer_v2.gradient_descent.SGD object at 0x7f1961306cd0>\n",
      "<tensorflow.python.keras.optimizer_v2.gradient_descent.SGD object at 0x7f1961306cd0>\n",
      "<tensorflow.python.keras.optimizer_v2.gradient_descent.SGD object at 0x7f1961306cd0>\n",
      "<tensorflow.python.keras.optimizer_v2.gradient_descent.SGD object at 0x7f1961306cd0>\n",
      "<tensorflow.python.keras.optimizer_v2.gradient_descent.SGD object at 0x7f1961306cd0>\n",
      "<tensorflow.python.keras.optimizer_v2.gradient_descent.SGD object at 0x7f1961306cd0>\n",
      "<tensorflow.python.keras.optimizer_v2.gradient_descent.SGD object at 0x7f1961306cd0>\n",
      "<tensorflow.python.keras.optimizer_v2.gradient_descent.SGD object at 0x7f1961306cd0>\n"
     ]
    }
   ],
   "source": [
    "for i in client_list:\n",
    "    k = client_list[i]\n",
    "#     print(k.model.trainable_variables[1])\n",
    "    print(k.optimizer)"
   ]
  },
  {
   "cell_type": "code",
   "execution_count": 26,
   "metadata": {},
   "outputs": [
    {
     "name": "stdout",
     "output_type": "stream",
     "text": [
      "---\n",
      "Evaluate on Global test data on Gmodel\n",
      "79/79 [==============================] - 0s 2ms/step - loss: 2.3034 - sparse_categorical_accuracy: 0.0964\n",
      "test loss, test acc: [2.303356885910034, 0.09640000015497208] \n",
      "\n"
     ]
    }
   ],
   "source": [
    "print(\"---\\nEvaluate on Global test data on Gmodel\")\n",
    "results = Gmodel.evaluate(X_test[:], y_test[:], batch_size=128)\n",
    "print(\"test loss, test acc:\", results,'\\n')"
   ]
  },
  {
   "cell_type": "code",
   "execution_count": 27,
   "metadata": {},
   "outputs": [
    {
     "name": "stdout",
     "output_type": "stream",
     "text": [
      "4\n"
     ]
    }
   ],
   "source": [
    "print(int(np.ceil(hyper_para['C']*len(client_list))))"
   ]
  },
  {
   "cell_type": "code",
   "execution_count": 28,
   "metadata": {
    "scrolled": true
   },
   "outputs": [
    {
     "name": "stdout",
     "output_type": "stream",
     "text": [
      "all client sample sum 60000\n"
     ]
    },
    {
     "data": {
      "application/vnd.jupyter.widget-view+json": {
       "model_id": "4910baad459d4b8e8ed5be4093106ad2",
       "version_major": 2,
       "version_minor": 0
      },
      "text/plain": [
       "HBox(children=(HTML(value=''), FloatProgress(value=0.0), HTML(value='')))"
      ]
     },
     "metadata": {},
     "output_type": "display_data"
    },
    {
     "name": "stdout",
     "output_type": "stream",
     "text": [
      "\n"
     ]
    },
    {
     "ename": "ResourceExhaustedError",
     "evalue": " OOM when allocating tensor with shape[1024,32,24,24] and type float on /job:localhost/replica:0/task:0/device:GPU:0 by allocator GPU_0_bfc\n\t [[node server_model/conv2d_5/Relu (defined at <ipython-input-28-d754925283ca>:48) ]]\nHint: If you want to see a list of allocated tensors when OOM happens, add report_tensor_allocations_upon_oom to RunOptions for current allocation info.\n [Op:__inference_train_function_7833]\n\nFunction call stack:\ntrain_function\n",
     "output_type": "error",
     "traceback": [
      "\u001b[0;31m---------------------------------------------------------------------------\u001b[0m",
      "\u001b[0;31mResourceExhaustedError\u001b[0m                    Traceback (most recent call last)",
      "\u001b[0;32m<ipython-input-28-d754925283ca>\u001b[0m in \u001b[0;36m<module>\u001b[0;34m\u001b[0m\n\u001b[1;32m     46\u001b[0m \u001b[0;34m\u001b[0m\u001b[0m\n\u001b[1;32m     47\u001b[0m         \u001b[0mdataset\u001b[0m \u001b[0;34m=\u001b[0m \u001b[0mk\u001b[0m\u001b[0;34m.\u001b[0m\u001b[0mdataset\u001b[0m\u001b[0;34m\u001b[0m\u001b[0;34m\u001b[0m\u001b[0m\n\u001b[0;32m---> 48\u001b[0;31m         \u001b[0mk\u001b[0m\u001b[0;34m.\u001b[0m\u001b[0mmodel\u001b[0m\u001b[0;34m.\u001b[0m\u001b[0mfit\u001b[0m\u001b[0;34m(\u001b[0m\u001b[0mdataset\u001b[0m\u001b[0;34m,\u001b[0m \u001b[0mepochs\u001b[0m\u001b[0;34m=\u001b[0m\u001b[0;36m3\u001b[0m\u001b[0;34m,\u001b[0m \u001b[0mverbose\u001b[0m\u001b[0;34m=\u001b[0m\u001b[0;36m0\u001b[0m\u001b[0;34m)\u001b[0m\u001b[0;34m\u001b[0m\u001b[0;34m\u001b[0m\u001b[0m\n\u001b[0m\u001b[1;32m     49\u001b[0m \u001b[0;34m\u001b[0m\u001b[0m\n\u001b[1;32m     50\u001b[0m \u001b[0;34m\u001b[0m\u001b[0m\n",
      "\u001b[0;32m/opt/conda/lib/python3.7/site-packages/tensorflow/python/keras/engine/training.py\u001b[0m in \u001b[0;36m_method_wrapper\u001b[0;34m(self, *args, **kwargs)\u001b[0m\n\u001b[1;32m    106\u001b[0m   \u001b[0;32mdef\u001b[0m \u001b[0m_method_wrapper\u001b[0m\u001b[0;34m(\u001b[0m\u001b[0mself\u001b[0m\u001b[0;34m,\u001b[0m \u001b[0;34m*\u001b[0m\u001b[0margs\u001b[0m\u001b[0;34m,\u001b[0m \u001b[0;34m**\u001b[0m\u001b[0mkwargs\u001b[0m\u001b[0;34m)\u001b[0m\u001b[0;34m:\u001b[0m\u001b[0;34m\u001b[0m\u001b[0;34m\u001b[0m\u001b[0m\n\u001b[1;32m    107\u001b[0m     \u001b[0;32mif\u001b[0m \u001b[0;32mnot\u001b[0m \u001b[0mself\u001b[0m\u001b[0;34m.\u001b[0m\u001b[0m_in_multi_worker_mode\u001b[0m\u001b[0;34m(\u001b[0m\u001b[0;34m)\u001b[0m\u001b[0;34m:\u001b[0m  \u001b[0;31m# pylint: disable=protected-access\u001b[0m\u001b[0;34m\u001b[0m\u001b[0;34m\u001b[0m\u001b[0m\n\u001b[0;32m--> 108\u001b[0;31m       \u001b[0;32mreturn\u001b[0m \u001b[0mmethod\u001b[0m\u001b[0;34m(\u001b[0m\u001b[0mself\u001b[0m\u001b[0;34m,\u001b[0m \u001b[0;34m*\u001b[0m\u001b[0margs\u001b[0m\u001b[0;34m,\u001b[0m \u001b[0;34m**\u001b[0m\u001b[0mkwargs\u001b[0m\u001b[0;34m)\u001b[0m\u001b[0;34m\u001b[0m\u001b[0;34m\u001b[0m\u001b[0m\n\u001b[0m\u001b[1;32m    109\u001b[0m \u001b[0;34m\u001b[0m\u001b[0m\n\u001b[1;32m    110\u001b[0m     \u001b[0;31m# Running inside `run_distribute_coordinator` already.\u001b[0m\u001b[0;34m\u001b[0m\u001b[0;34m\u001b[0m\u001b[0;34m\u001b[0m\u001b[0m\n",
      "\u001b[0;32m/opt/conda/lib/python3.7/site-packages/tensorflow/python/keras/engine/training.py\u001b[0m in \u001b[0;36mfit\u001b[0;34m(self, x, y, batch_size, epochs, verbose, callbacks, validation_split, validation_data, shuffle, class_weight, sample_weight, initial_epoch, steps_per_epoch, validation_steps, validation_batch_size, validation_freq, max_queue_size, workers, use_multiprocessing)\u001b[0m\n\u001b[1;32m   1096\u001b[0m                 batch_size=batch_size):\n\u001b[1;32m   1097\u001b[0m               \u001b[0mcallbacks\u001b[0m\u001b[0;34m.\u001b[0m\u001b[0mon_train_batch_begin\u001b[0m\u001b[0;34m(\u001b[0m\u001b[0mstep\u001b[0m\u001b[0;34m)\u001b[0m\u001b[0;34m\u001b[0m\u001b[0;34m\u001b[0m\u001b[0m\n\u001b[0;32m-> 1098\u001b[0;31m               \u001b[0mtmp_logs\u001b[0m \u001b[0;34m=\u001b[0m \u001b[0mtrain_function\u001b[0m\u001b[0;34m(\u001b[0m\u001b[0miterator\u001b[0m\u001b[0;34m)\u001b[0m\u001b[0;34m\u001b[0m\u001b[0;34m\u001b[0m\u001b[0m\n\u001b[0m\u001b[1;32m   1099\u001b[0m               \u001b[0;32mif\u001b[0m \u001b[0mdata_handler\u001b[0m\u001b[0;34m.\u001b[0m\u001b[0mshould_sync\u001b[0m\u001b[0;34m:\u001b[0m\u001b[0;34m\u001b[0m\u001b[0;34m\u001b[0m\u001b[0m\n\u001b[1;32m   1100\u001b[0m                 \u001b[0mcontext\u001b[0m\u001b[0;34m.\u001b[0m\u001b[0masync_wait\u001b[0m\u001b[0;34m(\u001b[0m\u001b[0;34m)\u001b[0m\u001b[0;34m\u001b[0m\u001b[0;34m\u001b[0m\u001b[0m\n",
      "\u001b[0;32m/opt/conda/lib/python3.7/site-packages/tensorflow/python/eager/def_function.py\u001b[0m in \u001b[0;36m__call__\u001b[0;34m(self, *args, **kwds)\u001b[0m\n\u001b[1;32m    778\u001b[0m       \u001b[0;32melse\u001b[0m\u001b[0;34m:\u001b[0m\u001b[0;34m\u001b[0m\u001b[0;34m\u001b[0m\u001b[0m\n\u001b[1;32m    779\u001b[0m         \u001b[0mcompiler\u001b[0m \u001b[0;34m=\u001b[0m \u001b[0;34m\"nonXla\"\u001b[0m\u001b[0;34m\u001b[0m\u001b[0;34m\u001b[0m\u001b[0m\n\u001b[0;32m--> 780\u001b[0;31m         \u001b[0mresult\u001b[0m \u001b[0;34m=\u001b[0m \u001b[0mself\u001b[0m\u001b[0;34m.\u001b[0m\u001b[0m_call\u001b[0m\u001b[0;34m(\u001b[0m\u001b[0;34m*\u001b[0m\u001b[0margs\u001b[0m\u001b[0;34m,\u001b[0m \u001b[0;34m**\u001b[0m\u001b[0mkwds\u001b[0m\u001b[0;34m)\u001b[0m\u001b[0;34m\u001b[0m\u001b[0;34m\u001b[0m\u001b[0m\n\u001b[0m\u001b[1;32m    781\u001b[0m \u001b[0;34m\u001b[0m\u001b[0m\n\u001b[1;32m    782\u001b[0m       \u001b[0mnew_tracing_count\u001b[0m \u001b[0;34m=\u001b[0m \u001b[0mself\u001b[0m\u001b[0;34m.\u001b[0m\u001b[0m_get_tracing_count\u001b[0m\u001b[0;34m(\u001b[0m\u001b[0;34m)\u001b[0m\u001b[0;34m\u001b[0m\u001b[0;34m\u001b[0m\u001b[0m\n",
      "\u001b[0;32m/opt/conda/lib/python3.7/site-packages/tensorflow/python/eager/def_function.py\u001b[0m in \u001b[0;36m_call\u001b[0;34m(self, *args, **kwds)\u001b[0m\n\u001b[1;32m    838\u001b[0m         \u001b[0;31m# Lifting succeeded, so variables are initialized and we can run the\u001b[0m\u001b[0;34m\u001b[0m\u001b[0;34m\u001b[0m\u001b[0;34m\u001b[0m\u001b[0m\n\u001b[1;32m    839\u001b[0m         \u001b[0;31m# stateless function.\u001b[0m\u001b[0;34m\u001b[0m\u001b[0;34m\u001b[0m\u001b[0;34m\u001b[0m\u001b[0m\n\u001b[0;32m--> 840\u001b[0;31m         \u001b[0;32mreturn\u001b[0m \u001b[0mself\u001b[0m\u001b[0;34m.\u001b[0m\u001b[0m_stateless_fn\u001b[0m\u001b[0;34m(\u001b[0m\u001b[0;34m*\u001b[0m\u001b[0margs\u001b[0m\u001b[0;34m,\u001b[0m \u001b[0;34m**\u001b[0m\u001b[0mkwds\u001b[0m\u001b[0;34m)\u001b[0m\u001b[0;34m\u001b[0m\u001b[0;34m\u001b[0m\u001b[0m\n\u001b[0m\u001b[1;32m    841\u001b[0m     \u001b[0;32melse\u001b[0m\u001b[0;34m:\u001b[0m\u001b[0;34m\u001b[0m\u001b[0;34m\u001b[0m\u001b[0m\n\u001b[1;32m    842\u001b[0m       \u001b[0mcanon_args\u001b[0m\u001b[0;34m,\u001b[0m \u001b[0mcanon_kwds\u001b[0m \u001b[0;34m=\u001b[0m\u001b[0;31m \u001b[0m\u001b[0;31m\\\u001b[0m\u001b[0;34m\u001b[0m\u001b[0;34m\u001b[0m\u001b[0m\n",
      "\u001b[0;32m/opt/conda/lib/python3.7/site-packages/tensorflow/python/eager/function.py\u001b[0m in \u001b[0;36m__call__\u001b[0;34m(self, *args, **kwargs)\u001b[0m\n\u001b[1;32m   2827\u001b[0m     \u001b[0;32mwith\u001b[0m \u001b[0mself\u001b[0m\u001b[0;34m.\u001b[0m\u001b[0m_lock\u001b[0m\u001b[0;34m:\u001b[0m\u001b[0;34m\u001b[0m\u001b[0;34m\u001b[0m\u001b[0m\n\u001b[1;32m   2828\u001b[0m       \u001b[0mgraph_function\u001b[0m\u001b[0;34m,\u001b[0m \u001b[0margs\u001b[0m\u001b[0;34m,\u001b[0m \u001b[0mkwargs\u001b[0m \u001b[0;34m=\u001b[0m \u001b[0mself\u001b[0m\u001b[0;34m.\u001b[0m\u001b[0m_maybe_define_function\u001b[0m\u001b[0;34m(\u001b[0m\u001b[0margs\u001b[0m\u001b[0;34m,\u001b[0m \u001b[0mkwargs\u001b[0m\u001b[0;34m)\u001b[0m\u001b[0;34m\u001b[0m\u001b[0;34m\u001b[0m\u001b[0m\n\u001b[0;32m-> 2829\u001b[0;31m     \u001b[0;32mreturn\u001b[0m \u001b[0mgraph_function\u001b[0m\u001b[0;34m.\u001b[0m\u001b[0m_filtered_call\u001b[0m\u001b[0;34m(\u001b[0m\u001b[0margs\u001b[0m\u001b[0;34m,\u001b[0m \u001b[0mkwargs\u001b[0m\u001b[0;34m)\u001b[0m  \u001b[0;31m# pylint: disable=protected-access\u001b[0m\u001b[0;34m\u001b[0m\u001b[0;34m\u001b[0m\u001b[0m\n\u001b[0m\u001b[1;32m   2830\u001b[0m \u001b[0;34m\u001b[0m\u001b[0m\n\u001b[1;32m   2831\u001b[0m   \u001b[0;34m@\u001b[0m\u001b[0mproperty\u001b[0m\u001b[0;34m\u001b[0m\u001b[0;34m\u001b[0m\u001b[0m\n",
      "\u001b[0;32m/opt/conda/lib/python3.7/site-packages/tensorflow/python/eager/function.py\u001b[0m in \u001b[0;36m_filtered_call\u001b[0;34m(self, args, kwargs, cancellation_manager)\u001b[0m\n\u001b[1;32m   1846\u001b[0m                            resource_variable_ops.BaseResourceVariable))],\n\u001b[1;32m   1847\u001b[0m         \u001b[0mcaptured_inputs\u001b[0m\u001b[0;34m=\u001b[0m\u001b[0mself\u001b[0m\u001b[0;34m.\u001b[0m\u001b[0mcaptured_inputs\u001b[0m\u001b[0;34m,\u001b[0m\u001b[0;34m\u001b[0m\u001b[0;34m\u001b[0m\u001b[0m\n\u001b[0;32m-> 1848\u001b[0;31m         cancellation_manager=cancellation_manager)\n\u001b[0m\u001b[1;32m   1849\u001b[0m \u001b[0;34m\u001b[0m\u001b[0m\n\u001b[1;32m   1850\u001b[0m   \u001b[0;32mdef\u001b[0m \u001b[0m_call_flat\u001b[0m\u001b[0;34m(\u001b[0m\u001b[0mself\u001b[0m\u001b[0;34m,\u001b[0m \u001b[0margs\u001b[0m\u001b[0;34m,\u001b[0m \u001b[0mcaptured_inputs\u001b[0m\u001b[0;34m,\u001b[0m \u001b[0mcancellation_manager\u001b[0m\u001b[0;34m=\u001b[0m\u001b[0;32mNone\u001b[0m\u001b[0;34m)\u001b[0m\u001b[0;34m:\u001b[0m\u001b[0;34m\u001b[0m\u001b[0;34m\u001b[0m\u001b[0m\n",
      "\u001b[0;32m/opt/conda/lib/python3.7/site-packages/tensorflow/python/eager/function.py\u001b[0m in \u001b[0;36m_call_flat\u001b[0;34m(self, args, captured_inputs, cancellation_manager)\u001b[0m\n\u001b[1;32m   1922\u001b[0m       \u001b[0;31m# No tape is watching; skip to running the function.\u001b[0m\u001b[0;34m\u001b[0m\u001b[0;34m\u001b[0m\u001b[0;34m\u001b[0m\u001b[0m\n\u001b[1;32m   1923\u001b[0m       return self._build_call_outputs(self._inference_function.call(\n\u001b[0;32m-> 1924\u001b[0;31m           ctx, args, cancellation_manager=cancellation_manager))\n\u001b[0m\u001b[1;32m   1925\u001b[0m     forward_backward = self._select_forward_and_backward_functions(\n\u001b[1;32m   1926\u001b[0m         \u001b[0margs\u001b[0m\u001b[0;34m,\u001b[0m\u001b[0;34m\u001b[0m\u001b[0;34m\u001b[0m\u001b[0m\n",
      "\u001b[0;32m/opt/conda/lib/python3.7/site-packages/tensorflow/python/eager/function.py\u001b[0m in \u001b[0;36mcall\u001b[0;34m(self, ctx, args, cancellation_manager)\u001b[0m\n\u001b[1;32m    548\u001b[0m               \u001b[0minputs\u001b[0m\u001b[0;34m=\u001b[0m\u001b[0margs\u001b[0m\u001b[0;34m,\u001b[0m\u001b[0;34m\u001b[0m\u001b[0;34m\u001b[0m\u001b[0m\n\u001b[1;32m    549\u001b[0m               \u001b[0mattrs\u001b[0m\u001b[0;34m=\u001b[0m\u001b[0mattrs\u001b[0m\u001b[0;34m,\u001b[0m\u001b[0;34m\u001b[0m\u001b[0;34m\u001b[0m\u001b[0m\n\u001b[0;32m--> 550\u001b[0;31m               ctx=ctx)\n\u001b[0m\u001b[1;32m    551\u001b[0m         \u001b[0;32melse\u001b[0m\u001b[0;34m:\u001b[0m\u001b[0;34m\u001b[0m\u001b[0;34m\u001b[0m\u001b[0m\n\u001b[1;32m    552\u001b[0m           outputs = execute.execute_with_cancellation(\n",
      "\u001b[0;32m/opt/conda/lib/python3.7/site-packages/tensorflow/python/eager/execute.py\u001b[0m in \u001b[0;36mquick_execute\u001b[0;34m(op_name, num_outputs, inputs, attrs, ctx, name)\u001b[0m\n\u001b[1;32m     58\u001b[0m     \u001b[0mctx\u001b[0m\u001b[0;34m.\u001b[0m\u001b[0mensure_initialized\u001b[0m\u001b[0;34m(\u001b[0m\u001b[0;34m)\u001b[0m\u001b[0;34m\u001b[0m\u001b[0;34m\u001b[0m\u001b[0m\n\u001b[1;32m     59\u001b[0m     tensors = pywrap_tfe.TFE_Py_Execute(ctx._handle, device_name, op_name,\n\u001b[0;32m---> 60\u001b[0;31m                                         inputs, attrs, num_outputs)\n\u001b[0m\u001b[1;32m     61\u001b[0m   \u001b[0;32mexcept\u001b[0m \u001b[0mcore\u001b[0m\u001b[0;34m.\u001b[0m\u001b[0m_NotOkStatusException\u001b[0m \u001b[0;32mas\u001b[0m \u001b[0me\u001b[0m\u001b[0;34m:\u001b[0m\u001b[0;34m\u001b[0m\u001b[0;34m\u001b[0m\u001b[0m\n\u001b[1;32m     62\u001b[0m     \u001b[0;32mif\u001b[0m \u001b[0mname\u001b[0m \u001b[0;32mis\u001b[0m \u001b[0;32mnot\u001b[0m \u001b[0;32mNone\u001b[0m\u001b[0;34m:\u001b[0m\u001b[0;34m\u001b[0m\u001b[0;34m\u001b[0m\u001b[0m\n",
      "\u001b[0;31mResourceExhaustedError\u001b[0m:  OOM when allocating tensor with shape[1024,32,24,24] and type float on /job:localhost/replica:0/task:0/device:GPU:0 by allocator GPU_0_bfc\n\t [[node server_model/conv2d_5/Relu (defined at <ipython-input-28-d754925283ca>:48) ]]\nHint: If you want to see a list of allocated tensors when OOM happens, add report_tensor_allocations_upon_oom to RunOptions for current allocation info.\n [Op:__inference_train_function_7833]\n\nFunction call stack:\ntrain_function\n"
     ]
    }
   ],
   "source": [
    "import random\n",
    "from tqdm.auto import tqdm, trange\n",
    "\n",
    "# def round_train(client_list, hyper_para, rounds):\n",
    "    \n",
    "    \n",
    "    \n",
    "\n",
    "#     print(choice)\n",
    "\n",
    "rounds = 100\n",
    "# start training\n",
    "\n",
    "all_samples = 0\n",
    "for i in client_list:\n",
    "    k = client_list[i]\n",
    "    all_samples += np.sum([len(y) for (x,y) in k.dataset])\n",
    "print('all client sample sum', all_samples)\n",
    "for rd in trange(rounds):\n",
    "#     print('>>>start of round')\n",
    "\n",
    "    # select client set S_t for t-th round from all clients set S. \n",
    "    size = int(np.ceil(hyper_para['C']*len(client_list)))\n",
    "    \n",
    "#     size = 4\n",
    "    choice = random.sample(list(client_list.keys()), size)\n",
    "#     print('participate client ',choice)\n",
    "\n",
    "    models = []\n",
    "    \n",
    "#     #     ================================================================= Check\n",
    "#     print('\\nWhether each client as same as Gmodel before round start?')\n",
    "#     for i in client_list:\n",
    "#         k = client_list[i]\n",
    "#         string = i+' is as same as Gmodel?'\n",
    "#         print(model_equal_validation(string, k.model, Gmodel))\n",
    "# #     ================================================================= Check\n",
    "    sum_samples = 0\n",
    "    for i in choice:\n",
    "        k = client_list[i]\n",
    "        sum_samples += np.sum([len(y) for (x,y) in k.dataset])\n",
    "#     print('selected client sample sum', sum_samples, all_samples)\n",
    "    \n",
    "    for key in choice: \n",
    "        k = client_list[key]\n",
    "\n",
    "        dataset = k.dataset\n",
    "        k.model.fit(dataset, epochs=3, verbose=0)\n",
    "        \n",
    "        \n",
    "\n",
    "        a = np.sum([len(y) for (x,y) in k.dataset])/sum_samples # compute Average weighting weight for this client\n",
    "#         a = 1 # ? \n",
    "        b = k.model.trainable_variables # get weight \n",
    "        c = [l*a for l in b] # multiply weighting in every layer \n",
    "\n",
    "        models.append(c)\n",
    "    \n",
    "    # model aggregate\n",
    "\n",
    "    new_weights = list()\n",
    "    if len(models) == 1:\n",
    "        print('only single participant')\n",
    "        new_weights = models[0]\n",
    "    else:\n",
    "        for i in zip(*models):\n",
    "#             print(tf.shape(i))\n",
    "#             new_weights.append(tf.reduce_mean(i, axis=0))\n",
    "            new_weights.append(tf.reduce_sum(i, axis=0))\n",
    "#             print(tf.shape(i))\n",
    "#             print(tf.reduce_sum(i, axis=0).shape)\n",
    "\n",
    "    Gmodel.set_weights(new_weights)\n",
    "    for i in client_list:\n",
    "        k = client_list[i] \n",
    "        k.model.set_weights(Gmodel.get_weights())\n",
    "#         k.optimizer.set_params(k.model)\n",
    "        \n",
    "\n",
    "#     print('>>>end of round\\n') \n",
    "# round_train(client_list, hyper_para, 200)"
   ]
  },
  {
   "cell_type": "code",
   "execution_count": null,
   "metadata": {},
   "outputs": [],
   "source": [
    "print(\"---\\nEvaluate on Global test data on Gmodel\")\n",
    "results = Gmodel.evaluate(X_test[:], y_test[:], batch_size=128)\n",
    "print(\"test loss, test acc:\", results,'\\n')"
   ]
  },
  {
   "cell_type": "code",
   "execution_count": null,
   "metadata": {},
   "outputs": [],
   "source": []
  },
  {
   "cell_type": "code",
   "execution_count": null,
   "metadata": {},
   "outputs": [],
   "source": []
  },
  {
   "cell_type": "code",
   "execution_count": null,
   "metadata": {},
   "outputs": [],
   "source": []
  }
 ],
 "metadata": {
  "kernelspec": {
   "display_name": "Python 3 (ipykernel)",
   "language": "python",
   "name": "python3"
  },
  "language_info": {
   "codemirror_mode": {
    "name": "ipython",
    "version": 3
   },
   "file_extension": ".py",
   "mimetype": "text/x-python",
   "name": "python",
   "nbconvert_exporter": "python",
   "pygments_lexer": "ipython3",
   "version": "3.7.10"
  }
 },
 "nbformat": 4,
 "nbformat_minor": 4
}
